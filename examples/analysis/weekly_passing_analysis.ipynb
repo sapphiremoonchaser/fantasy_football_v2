{
 "cells": [
  {
   "metadata": {},
   "cell_type": "markdown",
   "source": "# Weekly Passing Analysis",
   "id": "119f2e756e37743d"
  },
  {
   "metadata": {
    "ExecuteTime": {
     "end_time": "2025-10-06T18:10:16.948763Z",
     "start_time": "2025-10-06T18:10:16.463502Z"
    }
   },
   "cell_type": "code",
   "source": [
    "import pandas as pd\n",
    "import plotly.graph_objects as go\n",
    "import nfl_data_py as nfl"
   ],
   "id": "cf101d070163ee32",
   "outputs": [],
   "execution_count": 1
  },
  {
   "metadata": {
    "ExecuteTime": {
     "end_time": "2025-10-06T18:10:56.524361Z",
     "start_time": "2025-10-06T18:10:54.982322Z"
    }
   },
   "cell_type": "code",
   "source": [
    "pbp_df = nfl.import_pbp_data(\n",
    "    [2025]\n",
    ")\n",
    "pbp_df.head()"
   ],
   "id": "aeab24f2283bcd3c",
   "outputs": [
    {
     "name": "stdout",
     "output_type": "stream",
     "text": [
      "2025 done.\n",
      "Downcasting floats.\n"
     ]
    },
    {
     "data": {
      "text/plain": [
       "   play_id         game_id old_game_id home_team away_team season_type  week  \\\n",
       "0      1.0  2025_01_ARI_NO  2025090705        NO       ARI         REG     1   \n",
       "1     40.0  2025_01_ARI_NO  2025090705        NO       ARI         REG     1   \n",
       "2     63.0  2025_01_ARI_NO  2025090705        NO       ARI         REG     1   \n",
       "3     85.0  2025_01_ARI_NO  2025090705        NO       ARI         REG     1   \n",
       "4    115.0  2025_01_ARI_NO  2025090705        NO       ARI         REG     1   \n",
       "\n",
       "  posteam posteam_type defteam  ... out_of_bounds  home_opening_kickoff  \\\n",
       "0    None         None    None  ...           0.0                   0.0   \n",
       "1     ARI         away      NO  ...           0.0                   0.0   \n",
       "2     ARI         away      NO  ...           0.0                   0.0   \n",
       "3     ARI         away      NO  ...           1.0                   0.0   \n",
       "4     ARI         away      NO  ...           0.0                   0.0   \n",
       "\n",
       "     qb_epa  xyac_epa  xyac_mean_yardage  xyac_median_yardage xyac_success  \\\n",
       "0 -0.000000       NaN                NaN                  NaN          NaN   \n",
       "1 -0.352700       NaN                NaN                  NaN          NaN   \n",
       "2 -0.190052       NaN                NaN                  NaN          NaN   \n",
       "3  1.317340  0.939998           4.750889                  3.0     0.666726   \n",
       "4 -1.694360       NaN                NaN                  NaN          NaN   \n",
       "\n",
       "   xyac_fd     xpass    pass_oe  \n",
       "0      NaN       NaN        NaN  \n",
       "1      NaN       NaN        NaN  \n",
       "2      NaN  0.511128 -51.112808  \n",
       "3  0.43911  0.668940  33.105968  \n",
       "4      NaN  0.492038  50.796207  \n",
       "\n",
       "[5 rows x 372 columns]"
      ],
      "text/html": [
       "<div>\n",
       "<style scoped>\n",
       "    .dataframe tbody tr th:only-of-type {\n",
       "        vertical-align: middle;\n",
       "    }\n",
       "\n",
       "    .dataframe tbody tr th {\n",
       "        vertical-align: top;\n",
       "    }\n",
       "\n",
       "    .dataframe thead th {\n",
       "        text-align: right;\n",
       "    }\n",
       "</style>\n",
       "<table border=\"1\" class=\"dataframe\">\n",
       "  <thead>\n",
       "    <tr style=\"text-align: right;\">\n",
       "      <th></th>\n",
       "      <th>play_id</th>\n",
       "      <th>game_id</th>\n",
       "      <th>old_game_id</th>\n",
       "      <th>home_team</th>\n",
       "      <th>away_team</th>\n",
       "      <th>season_type</th>\n",
       "      <th>week</th>\n",
       "      <th>posteam</th>\n",
       "      <th>posteam_type</th>\n",
       "      <th>defteam</th>\n",
       "      <th>...</th>\n",
       "      <th>out_of_bounds</th>\n",
       "      <th>home_opening_kickoff</th>\n",
       "      <th>qb_epa</th>\n",
       "      <th>xyac_epa</th>\n",
       "      <th>xyac_mean_yardage</th>\n",
       "      <th>xyac_median_yardage</th>\n",
       "      <th>xyac_success</th>\n",
       "      <th>xyac_fd</th>\n",
       "      <th>xpass</th>\n",
       "      <th>pass_oe</th>\n",
       "    </tr>\n",
       "  </thead>\n",
       "  <tbody>\n",
       "    <tr>\n",
       "      <th>0</th>\n",
       "      <td>1.0</td>\n",
       "      <td>2025_01_ARI_NO</td>\n",
       "      <td>2025090705</td>\n",
       "      <td>NO</td>\n",
       "      <td>ARI</td>\n",
       "      <td>REG</td>\n",
       "      <td>1</td>\n",
       "      <td>None</td>\n",
       "      <td>None</td>\n",
       "      <td>None</td>\n",
       "      <td>...</td>\n",
       "      <td>0.0</td>\n",
       "      <td>0.0</td>\n",
       "      <td>-0.000000</td>\n",
       "      <td>NaN</td>\n",
       "      <td>NaN</td>\n",
       "      <td>NaN</td>\n",
       "      <td>NaN</td>\n",
       "      <td>NaN</td>\n",
       "      <td>NaN</td>\n",
       "      <td>NaN</td>\n",
       "    </tr>\n",
       "    <tr>\n",
       "      <th>1</th>\n",
       "      <td>40.0</td>\n",
       "      <td>2025_01_ARI_NO</td>\n",
       "      <td>2025090705</td>\n",
       "      <td>NO</td>\n",
       "      <td>ARI</td>\n",
       "      <td>REG</td>\n",
       "      <td>1</td>\n",
       "      <td>ARI</td>\n",
       "      <td>away</td>\n",
       "      <td>NO</td>\n",
       "      <td>...</td>\n",
       "      <td>0.0</td>\n",
       "      <td>0.0</td>\n",
       "      <td>-0.352700</td>\n",
       "      <td>NaN</td>\n",
       "      <td>NaN</td>\n",
       "      <td>NaN</td>\n",
       "      <td>NaN</td>\n",
       "      <td>NaN</td>\n",
       "      <td>NaN</td>\n",
       "      <td>NaN</td>\n",
       "    </tr>\n",
       "    <tr>\n",
       "      <th>2</th>\n",
       "      <td>63.0</td>\n",
       "      <td>2025_01_ARI_NO</td>\n",
       "      <td>2025090705</td>\n",
       "      <td>NO</td>\n",
       "      <td>ARI</td>\n",
       "      <td>REG</td>\n",
       "      <td>1</td>\n",
       "      <td>ARI</td>\n",
       "      <td>away</td>\n",
       "      <td>NO</td>\n",
       "      <td>...</td>\n",
       "      <td>0.0</td>\n",
       "      <td>0.0</td>\n",
       "      <td>-0.190052</td>\n",
       "      <td>NaN</td>\n",
       "      <td>NaN</td>\n",
       "      <td>NaN</td>\n",
       "      <td>NaN</td>\n",
       "      <td>NaN</td>\n",
       "      <td>0.511128</td>\n",
       "      <td>-51.112808</td>\n",
       "    </tr>\n",
       "    <tr>\n",
       "      <th>3</th>\n",
       "      <td>85.0</td>\n",
       "      <td>2025_01_ARI_NO</td>\n",
       "      <td>2025090705</td>\n",
       "      <td>NO</td>\n",
       "      <td>ARI</td>\n",
       "      <td>REG</td>\n",
       "      <td>1</td>\n",
       "      <td>ARI</td>\n",
       "      <td>away</td>\n",
       "      <td>NO</td>\n",
       "      <td>...</td>\n",
       "      <td>1.0</td>\n",
       "      <td>0.0</td>\n",
       "      <td>1.317340</td>\n",
       "      <td>0.939998</td>\n",
       "      <td>4.750889</td>\n",
       "      <td>3.0</td>\n",
       "      <td>0.666726</td>\n",
       "      <td>0.43911</td>\n",
       "      <td>0.668940</td>\n",
       "      <td>33.105968</td>\n",
       "    </tr>\n",
       "    <tr>\n",
       "      <th>4</th>\n",
       "      <td>115.0</td>\n",
       "      <td>2025_01_ARI_NO</td>\n",
       "      <td>2025090705</td>\n",
       "      <td>NO</td>\n",
       "      <td>ARI</td>\n",
       "      <td>REG</td>\n",
       "      <td>1</td>\n",
       "      <td>ARI</td>\n",
       "      <td>away</td>\n",
       "      <td>NO</td>\n",
       "      <td>...</td>\n",
       "      <td>0.0</td>\n",
       "      <td>0.0</td>\n",
       "      <td>-1.694360</td>\n",
       "      <td>NaN</td>\n",
       "      <td>NaN</td>\n",
       "      <td>NaN</td>\n",
       "      <td>NaN</td>\n",
       "      <td>NaN</td>\n",
       "      <td>0.492038</td>\n",
       "      <td>50.796207</td>\n",
       "    </tr>\n",
       "  </tbody>\n",
       "</table>\n",
       "<p>5 rows × 372 columns</p>\n",
       "</div>"
      ]
     },
     "execution_count": 2,
     "metadata": {},
     "output_type": "execute_result"
    }
   ],
   "execution_count": 2
  },
  {
   "metadata": {
    "ExecuteTime": {
     "end_time": "2025-10-06T18:11:09.582207Z",
     "start_time": "2025-10-06T18:11:09.576159Z"
    }
   },
   "cell_type": "code",
   "source": "pbp_df.shape",
   "id": "f8861dc62cb2c23b",
   "outputs": [
    {
     "data": {
      "text/plain": [
       "(13324, 372)"
      ]
     },
     "execution_count": 3,
     "metadata": {},
     "output_type": "execute_result"
    }
   ],
   "execution_count": 3
  },
  {
   "metadata": {
    "ExecuteTime": {
     "end_time": "2025-10-06T18:11:59.487510Z",
     "start_time": "2025-10-06T18:11:59.483218Z"
    }
   },
   "cell_type": "code",
   "source": "pbp_df.columns",
   "id": "f673d1b89e69de9b",
   "outputs": [
    {
     "data": {
      "text/plain": [
       "Index(['play_id', 'game_id', 'old_game_id', 'home_team', 'away_team',\n",
       "       'season_type', 'week', 'posteam', 'posteam_type', 'defteam',\n",
       "       ...\n",
       "       'out_of_bounds', 'home_opening_kickoff', 'qb_epa', 'xyac_epa',\n",
       "       'xyac_mean_yardage', 'xyac_median_yardage', 'xyac_success', 'xyac_fd',\n",
       "       'xpass', 'pass_oe'],\n",
       "      dtype='object', length=372)"
      ]
     },
     "execution_count": 4,
     "metadata": {},
     "output_type": "execute_result"
    }
   ],
   "execution_count": 4
  },
  {
   "metadata": {},
   "cell_type": "code",
   "outputs": [],
   "execution_count": null,
   "source": "# Filter to passing plays",
   "id": "b648b59e3d9dcff4"
  }
 ],
 "metadata": {
  "kernelspec": {
   "display_name": "Python 3",
   "language": "python",
   "name": "python3"
  },
  "language_info": {
   "codemirror_mode": {
    "name": "ipython",
    "version": 2
   },
   "file_extension": ".py",
   "mimetype": "text/x-python",
   "name": "python",
   "nbconvert_exporter": "python",
   "pygments_lexer": "ipython2",
   "version": "2.7.6"
  }
 },
 "nbformat": 4,
 "nbformat_minor": 5
}
