{
 "cells": [
  {
   "metadata": {},
   "cell_type": "markdown",
   "source": "# Points by Ref Analysis",
   "id": "ff86c21a02e4343f"
  },
  {
   "metadata": {
    "collapsed": true,
    "ExecuteTime": {
     "end_time": "2025-10-04T17:08:52.691148Z",
     "start_time": "2025-10-04T17:08:52.687224Z"
    }
   },
   "cell_type": "code",
   "source": [
    "from src.fantasy_football_v2.data.generate_dataframes.generate_weekly_points_df import generate_weekly_points_df\n",
    "from src.fantasy_football_v2.data.generate_dataframes.generate_ref_df import generate_ref_df\n",
    "from src.fantasy_football_v2.data.generate_dataframes.generate_game_df import generate_game_df\n",
    "\n",
    "import matplotlib.pyplot as plt"
   ],
   "id": "14d36dfa391621b8",
   "outputs": [],
   "execution_count": 200
  },
  {
   "metadata": {
    "ExecuteTime": {
     "end_time": "2025-10-04T17:08:52.948231Z",
     "start_time": "2025-10-04T17:08:52.698157Z"
    }
   },
   "cell_type": "code",
   "source": [
    "# Ref dataframe with current refs\n",
    "ref_df = generate_ref_df(\n",
    "    years=[2025]\n",
    ").reindex()\n",
    "ref_df.head()"
   ],
   "id": "775b045b5d9d09a9",
   "outputs": [
    {
     "data": {
      "text/plain": [
       "             id            name  season position\n",
       "48910  SmitSh0r     Shawn Smith    2025        R\n",
       "48911  BlakTr0r       Tra Blake    2025        U\n",
       "48912  BilbJa0r       Jay Bilbo    2025       DJ\n",
       "48913  SeemJe0r     Jeff Seeman    2025       LJ\n",
       "48914  PagaDi0r  Dino Paganelli    2025       BJ"
      ],
      "text/html": [
       "<div>\n",
       "<style scoped>\n",
       "    .dataframe tbody tr th:only-of-type {\n",
       "        vertical-align: middle;\n",
       "    }\n",
       "\n",
       "    .dataframe tbody tr th {\n",
       "        vertical-align: top;\n",
       "    }\n",
       "\n",
       "    .dataframe thead th {\n",
       "        text-align: right;\n",
       "    }\n",
       "</style>\n",
       "<table border=\"1\" class=\"dataframe\">\n",
       "  <thead>\n",
       "    <tr style=\"text-align: right;\">\n",
       "      <th></th>\n",
       "      <th>id</th>\n",
       "      <th>name</th>\n",
       "      <th>season</th>\n",
       "      <th>position</th>\n",
       "    </tr>\n",
       "  </thead>\n",
       "  <tbody>\n",
       "    <tr>\n",
       "      <th>48910</th>\n",
       "      <td>SmitSh0r</td>\n",
       "      <td>Shawn Smith</td>\n",
       "      <td>2025</td>\n",
       "      <td>R</td>\n",
       "    </tr>\n",
       "    <tr>\n",
       "      <th>48911</th>\n",
       "      <td>BlakTr0r</td>\n",
       "      <td>Tra Blake</td>\n",
       "      <td>2025</td>\n",
       "      <td>U</td>\n",
       "    </tr>\n",
       "    <tr>\n",
       "      <th>48912</th>\n",
       "      <td>BilbJa0r</td>\n",
       "      <td>Jay Bilbo</td>\n",
       "      <td>2025</td>\n",
       "      <td>DJ</td>\n",
       "    </tr>\n",
       "    <tr>\n",
       "      <th>48913</th>\n",
       "      <td>SeemJe0r</td>\n",
       "      <td>Jeff Seeman</td>\n",
       "      <td>2025</td>\n",
       "      <td>LJ</td>\n",
       "    </tr>\n",
       "    <tr>\n",
       "      <th>48914</th>\n",
       "      <td>PagaDi0r</td>\n",
       "      <td>Dino Paganelli</td>\n",
       "      <td>2025</td>\n",
       "      <td>BJ</td>\n",
       "    </tr>\n",
       "  </tbody>\n",
       "</table>\n",
       "</div>"
      ]
     },
     "execution_count": 201,
     "metadata": {},
     "output_type": "execute_result"
    }
   ],
   "execution_count": 201
  },
  {
   "metadata": {
    "ExecuteTime": {
     "end_time": "2025-10-04T17:08:52.994941Z",
     "start_time": "2025-10-04T17:08:52.991340Z"
    }
   },
   "cell_type": "code",
   "source": "ref_df.shape",
   "id": "62fcb07e1529c793",
   "outputs": [
    {
     "data": {
      "text/plain": [
       "(120, 4)"
      ]
     },
     "execution_count": 202,
     "metadata": {},
     "output_type": "execute_result"
    }
   ],
   "execution_count": 202
  },
  {
   "metadata": {
    "ExecuteTime": {
     "end_time": "2025-10-04T17:08:53.409917Z",
     "start_time": "2025-10-04T17:08:53.053899Z"
    }
   },
   "cell_type": "code",
   "source": [
    "# Dataframe of games (including ref)\n",
    "game_df = generate_game_df(\n",
    "    years=[2021, 2022, 2023, 2024, 2025]\n",
    ").reindex()\n",
    "game_df.shape"
   ],
   "id": "6a1d0242d854e84f",
   "outputs": [
    {
     "data": {
      "text/plain": [
       "(1359, 5)"
      ]
     },
     "execution_count": 203,
     "metadata": {},
     "output_type": "execute_result"
    }
   ],
   "execution_count": 203
  },
  {
   "metadata": {
    "ExecuteTime": {
     "end_time": "2025-10-04T17:08:53.428398Z",
     "start_time": "2025-10-04T17:08:53.420919Z"
    }
   },
   "cell_type": "code",
   "source": [
    "# Join game_df and ref_df so that only games with current refs are included\n",
    "game_df = game_df.merge(\n",
    "    ref_df,\n",
    "    left_on=['referee'],\n",
    "    right_on=['name'],\n",
    "    how='inner'\n",
    ")\n",
    "\n",
    "# Drop extra columns (keep these)\n",
    "game_df = game_df[[\n",
    "    'game_id',\n",
    "    'season_x',\n",
    "    'week',\n",
    "    'teams',\n",
    "    'referee'\n",
    "]]\n",
    "\n",
    "# Rename column\n",
    "game_df = game_df.rename(\n",
    "    columns={\n",
    "        'season_x': 'season'\n",
    "    }\n",
    ")\n",
    "\n",
    "game_df.shape"
   ],
   "id": "65752f3719aeb1a9",
   "outputs": [
    {
     "data": {
      "text/plain": [
       "(1103, 5)"
      ]
     },
     "execution_count": 204,
     "metadata": {},
     "output_type": "execute_result"
    }
   ],
   "execution_count": 204
  },
  {
   "metadata": {
    "ExecuteTime": {
     "end_time": "2025-10-04T17:08:53.454682Z",
     "start_time": "2025-10-04T17:08:53.447410Z"
    }
   },
   "cell_type": "code",
   "source": "game_df.head()",
   "id": "e7be3a08fd115cd3",
   "outputs": [
    {
     "data": {
      "text/plain": [
       "           game_id  season  week       teams        referee\n",
       "0   2021_01_DAL_TB    2021     1   [DAL, TB]  Shawn Hochuli\n",
       "1   2021_02_NE_NYJ    2021     2   [NE, NYJ]  Shawn Hochuli\n",
       "2   2021_03_LAC_KC    2021     3   [LAC, KC]  Shawn Hochuli\n",
       "3   2021_04_ARI_LA    2021     4   [ARI, LA]  Shawn Hochuli\n",
       "4  2021_05_PHI_CAR    2021     5  [PHI, CAR]  Shawn Hochuli"
      ],
      "text/html": [
       "<div>\n",
       "<style scoped>\n",
       "    .dataframe tbody tr th:only-of-type {\n",
       "        vertical-align: middle;\n",
       "    }\n",
       "\n",
       "    .dataframe tbody tr th {\n",
       "        vertical-align: top;\n",
       "    }\n",
       "\n",
       "    .dataframe thead th {\n",
       "        text-align: right;\n",
       "    }\n",
       "</style>\n",
       "<table border=\"1\" class=\"dataframe\">\n",
       "  <thead>\n",
       "    <tr style=\"text-align: right;\">\n",
       "      <th></th>\n",
       "      <th>game_id</th>\n",
       "      <th>season</th>\n",
       "      <th>week</th>\n",
       "      <th>teams</th>\n",
       "      <th>referee</th>\n",
       "    </tr>\n",
       "  </thead>\n",
       "  <tbody>\n",
       "    <tr>\n",
       "      <th>0</th>\n",
       "      <td>2021_01_DAL_TB</td>\n",
       "      <td>2021</td>\n",
       "      <td>1</td>\n",
       "      <td>[DAL, TB]</td>\n",
       "      <td>Shawn Hochuli</td>\n",
       "    </tr>\n",
       "    <tr>\n",
       "      <th>1</th>\n",
       "      <td>2021_02_NE_NYJ</td>\n",
       "      <td>2021</td>\n",
       "      <td>2</td>\n",
       "      <td>[NE, NYJ]</td>\n",
       "      <td>Shawn Hochuli</td>\n",
       "    </tr>\n",
       "    <tr>\n",
       "      <th>2</th>\n",
       "      <td>2021_03_LAC_KC</td>\n",
       "      <td>2021</td>\n",
       "      <td>3</td>\n",
       "      <td>[LAC, KC]</td>\n",
       "      <td>Shawn Hochuli</td>\n",
       "    </tr>\n",
       "    <tr>\n",
       "      <th>3</th>\n",
       "      <td>2021_04_ARI_LA</td>\n",
       "      <td>2021</td>\n",
       "      <td>4</td>\n",
       "      <td>[ARI, LA]</td>\n",
       "      <td>Shawn Hochuli</td>\n",
       "    </tr>\n",
       "    <tr>\n",
       "      <th>4</th>\n",
       "      <td>2021_05_PHI_CAR</td>\n",
       "      <td>2021</td>\n",
       "      <td>5</td>\n",
       "      <td>[PHI, CAR]</td>\n",
       "      <td>Shawn Hochuli</td>\n",
       "    </tr>\n",
       "  </tbody>\n",
       "</table>\n",
       "</div>"
      ]
     },
     "execution_count": 205,
     "metadata": {},
     "output_type": "execute_result"
    }
   ],
   "execution_count": 205
  },
  {
   "metadata": {
    "ExecuteTime": {
     "end_time": "2025-10-04T17:08:55.304777Z",
     "start_time": "2025-10-04T17:08:53.510381Z"
    }
   },
   "cell_type": "code",
   "source": [
    "# Create dataframe of weekly points\n",
    "points_df = generate_weekly_points_df().reindex()\n",
    "\n",
    "# Join points_df and game_df so that only games with current refs are included\n",
    "points_df = points_df.merge(\n",
    "    game_df,\n",
    "    on=['game_id'],\n",
    "    how='inner',\n",
    "    suffixes=(\"\", \"_df1\")\n",
    ")\n",
    "\n",
    "# Drop extra columns (keep these)\n",
    "points_df = points_df[[\n",
    "    'game_id',\n",
    "    'season',\n",
    "    'week',\n",
    "    'player_id',\n",
    "    'player_display_name',\n",
    "    'recent_team',\n",
    "    'position',\n",
    "    'teams',\n",
    "    'referee',\n",
    "    'fantasy_points_ppr'\n",
    "]]\n",
    "\n",
    "points_df.shape"
   ],
   "id": "ad9933858793ae1b",
   "outputs": [
    {
     "name": "stdout",
     "output_type": "stream",
     "text": [
      "Downcasting floats.\n"
     ]
    },
    {
     "data": {
      "text/plain": [
       "(20607, 10)"
      ]
     },
     "execution_count": 206,
     "metadata": {},
     "output_type": "execute_result"
    }
   ],
   "execution_count": 206
  },
  {
   "metadata": {
    "ExecuteTime": {
     "end_time": "2025-10-04T17:08:55.395469Z",
     "start_time": "2025-10-04T17:08:55.389515Z"
    }
   },
   "cell_type": "code",
   "source": [
    "# Remove players with 0 points\n",
    "points_df = points_df[\n",
    "    points_df['fantasy_points_ppr'] > 0\n",
    "]\n",
    "\n",
    "points_df.shape"
   ],
   "id": "dbf68bbe8f7091f0",
   "outputs": [
    {
     "data": {
      "text/plain": [
       "(18916, 10)"
      ]
     },
     "execution_count": 207,
     "metadata": {},
     "output_type": "execute_result"
    }
   ],
   "execution_count": 207
  },
  {
   "metadata": {
    "ExecuteTime": {
     "end_time": "2025-10-04T17:08:55.430171Z",
     "start_time": "2025-10-04T17:08:55.421476Z"
    }
   },
   "cell_type": "code",
   "source": "points_df.head()",
   "id": "558d86314ec62cd6",
   "outputs": [
    {
     "data": {
      "text/plain": [
       "          game_id  season  week   player_id player_display_name recent_team  \\\n",
       "0  2024_01_NYJ_SF    2024     1  00-0023459       Aaron Rodgers         NYJ   \n",
       "1  2024_01_NYJ_SF    2024     1  00-0028118        Tyrod Taylor         NYJ   \n",
       "2  2024_01_NYJ_SF    2024     1  00-0029892       Kyle Juszczyk          SF   \n",
       "4  2024_01_NYJ_SF    2024     1  00-0033288       George Kittle          SF   \n",
       "6  2024_01_NYJ_SF    2024     1  00-0034270       Tyler Conklin         NYJ   \n",
       "\n",
       "  position      teams        referee  fantasy_points_ppr  \n",
       "0       QB  [NYJ, SF]  Carl Cheffers                8.58  \n",
       "1       QB  [NYJ, SF]  Carl Cheffers                6.14  \n",
       "2       FB  [NYJ, SF]  Carl Cheffers                6.00  \n",
       "4       TE  [NYJ, SF]  Carl Cheffers                8.00  \n",
       "6       TE  [NYJ, SF]  Carl Cheffers                1.60  "
      ],
      "text/html": [
       "<div>\n",
       "<style scoped>\n",
       "    .dataframe tbody tr th:only-of-type {\n",
       "        vertical-align: middle;\n",
       "    }\n",
       "\n",
       "    .dataframe tbody tr th {\n",
       "        vertical-align: top;\n",
       "    }\n",
       "\n",
       "    .dataframe thead th {\n",
       "        text-align: right;\n",
       "    }\n",
       "</style>\n",
       "<table border=\"1\" class=\"dataframe\">\n",
       "  <thead>\n",
       "    <tr style=\"text-align: right;\">\n",
       "      <th></th>\n",
       "      <th>game_id</th>\n",
       "      <th>season</th>\n",
       "      <th>week</th>\n",
       "      <th>player_id</th>\n",
       "      <th>player_display_name</th>\n",
       "      <th>recent_team</th>\n",
       "      <th>position</th>\n",
       "      <th>teams</th>\n",
       "      <th>referee</th>\n",
       "      <th>fantasy_points_ppr</th>\n",
       "    </tr>\n",
       "  </thead>\n",
       "  <tbody>\n",
       "    <tr>\n",
       "      <th>0</th>\n",
       "      <td>2024_01_NYJ_SF</td>\n",
       "      <td>2024</td>\n",
       "      <td>1</td>\n",
       "      <td>00-0023459</td>\n",
       "      <td>Aaron Rodgers</td>\n",
       "      <td>NYJ</td>\n",
       "      <td>QB</td>\n",
       "      <td>[NYJ, SF]</td>\n",
       "      <td>Carl Cheffers</td>\n",
       "      <td>8.58</td>\n",
       "    </tr>\n",
       "    <tr>\n",
       "      <th>1</th>\n",
       "      <td>2024_01_NYJ_SF</td>\n",
       "      <td>2024</td>\n",
       "      <td>1</td>\n",
       "      <td>00-0028118</td>\n",
       "      <td>Tyrod Taylor</td>\n",
       "      <td>NYJ</td>\n",
       "      <td>QB</td>\n",
       "      <td>[NYJ, SF]</td>\n",
       "      <td>Carl Cheffers</td>\n",
       "      <td>6.14</td>\n",
       "    </tr>\n",
       "    <tr>\n",
       "      <th>2</th>\n",
       "      <td>2024_01_NYJ_SF</td>\n",
       "      <td>2024</td>\n",
       "      <td>1</td>\n",
       "      <td>00-0029892</td>\n",
       "      <td>Kyle Juszczyk</td>\n",
       "      <td>SF</td>\n",
       "      <td>FB</td>\n",
       "      <td>[NYJ, SF]</td>\n",
       "      <td>Carl Cheffers</td>\n",
       "      <td>6.00</td>\n",
       "    </tr>\n",
       "    <tr>\n",
       "      <th>4</th>\n",
       "      <td>2024_01_NYJ_SF</td>\n",
       "      <td>2024</td>\n",
       "      <td>1</td>\n",
       "      <td>00-0033288</td>\n",
       "      <td>George Kittle</td>\n",
       "      <td>SF</td>\n",
       "      <td>TE</td>\n",
       "      <td>[NYJ, SF]</td>\n",
       "      <td>Carl Cheffers</td>\n",
       "      <td>8.00</td>\n",
       "    </tr>\n",
       "    <tr>\n",
       "      <th>6</th>\n",
       "      <td>2024_01_NYJ_SF</td>\n",
       "      <td>2024</td>\n",
       "      <td>1</td>\n",
       "      <td>00-0034270</td>\n",
       "      <td>Tyler Conklin</td>\n",
       "      <td>NYJ</td>\n",
       "      <td>TE</td>\n",
       "      <td>[NYJ, SF]</td>\n",
       "      <td>Carl Cheffers</td>\n",
       "      <td>1.60</td>\n",
       "    </tr>\n",
       "  </tbody>\n",
       "</table>\n",
       "</div>"
      ]
     },
     "execution_count": 208,
     "metadata": {},
     "output_type": "execute_result"
    }
   ],
   "execution_count": 208
  },
  {
   "metadata": {
    "ExecuteTime": {
     "end_time": "2025-10-04T17:08:55.505074Z",
     "start_time": "2025-10-04T17:08:55.496027Z"
    }
   },
   "cell_type": "code",
   "source": [
    "# Average fantasy points per game\n",
    "game_avg = points_df.groupby('game_id')['fantasy_points_ppr'].mean().reset_index()\n",
    "\n",
    "# Rename fantasy_points_ppr to avg_points_per_game\n",
    "game_avg.rename(\n",
    "    columns={\n",
    "        'fantasy_points_ppr': 'avg_points_per_game'\n",
    "    },\n",
    "    inplace=True\n",
    ")\n",
    "\n",
    "game_avg.head()"
   ],
   "id": "552e8ca48938dbf1",
   "outputs": [
    {
     "data": {
      "text/plain": [
       "           game_id  avg_points_per_game\n",
       "0   2021_01_BAL_LV            11.678947\n",
       "1   2021_01_CHI_LA            10.498889\n",
       "2   2021_01_CLE_KC            10.981000\n",
       "3   2021_01_DAL_TB            15.955000\n",
       "4  2021_01_DEN_NYG             9.242000"
      ],
      "text/html": [
       "<div>\n",
       "<style scoped>\n",
       "    .dataframe tbody tr th:only-of-type {\n",
       "        vertical-align: middle;\n",
       "    }\n",
       "\n",
       "    .dataframe tbody tr th {\n",
       "        vertical-align: top;\n",
       "    }\n",
       "\n",
       "    .dataframe thead th {\n",
       "        text-align: right;\n",
       "    }\n",
       "</style>\n",
       "<table border=\"1\" class=\"dataframe\">\n",
       "  <thead>\n",
       "    <tr style=\"text-align: right;\">\n",
       "      <th></th>\n",
       "      <th>game_id</th>\n",
       "      <th>avg_points_per_game</th>\n",
       "    </tr>\n",
       "  </thead>\n",
       "  <tbody>\n",
       "    <tr>\n",
       "      <th>0</th>\n",
       "      <td>2021_01_BAL_LV</td>\n",
       "      <td>11.678947</td>\n",
       "    </tr>\n",
       "    <tr>\n",
       "      <th>1</th>\n",
       "      <td>2021_01_CHI_LA</td>\n",
       "      <td>10.498889</td>\n",
       "    </tr>\n",
       "    <tr>\n",
       "      <th>2</th>\n",
       "      <td>2021_01_CLE_KC</td>\n",
       "      <td>10.981000</td>\n",
       "    </tr>\n",
       "    <tr>\n",
       "      <th>3</th>\n",
       "      <td>2021_01_DAL_TB</td>\n",
       "      <td>15.955000</td>\n",
       "    </tr>\n",
       "    <tr>\n",
       "      <th>4</th>\n",
       "      <td>2021_01_DEN_NYG</td>\n",
       "      <td>9.242000</td>\n",
       "    </tr>\n",
       "  </tbody>\n",
       "</table>\n",
       "</div>"
      ]
     },
     "execution_count": 209,
     "metadata": {},
     "output_type": "execute_result"
    }
   ],
   "execution_count": 209
  },
  {
   "metadata": {
    "ExecuteTime": {
     "end_time": "2025-10-04T17:08:55.656230Z",
     "start_time": "2025-10-04T17:08:55.647056Z"
    }
   },
   "cell_type": "code",
   "source": [
    "# Add ref column (all players in a game have the same ref)\n",
    "# drop duplicates firts\n",
    "points_df_deduped = points_df[[\n",
    "    'game_id',\n",
    "    'referee'\n",
    "]].drop_duplicates()\n",
    "\n",
    "game_avg = game_avg.merge(\n",
    "    points_df_deduped,\n",
    "    on='game_id'\n",
    ")\n",
    "\n",
    "# remove un-needed columns\n",
    "game_avg = game_avg[[\n",
    "    'game_id',\n",
    "    'avg_points_per_game',\n",
    "    'referee'\n",
    "]]\n",
    "\n",
    "# Rename referee_x to referee\n",
    "game_avg.rename(\n",
    "    columns={\n",
    "        'referee_x': 'referee'\n",
    "    },\n",
    "    inplace=True\n",
    ")\n"
   ],
   "id": "e0f2ae926ab09698",
   "outputs": [],
   "execution_count": 210
  },
  {
   "metadata": {
    "ExecuteTime": {
     "end_time": "2025-10-04T17:08:55.681345Z",
     "start_time": "2025-10-04T17:08:55.675242Z"
    }
   },
   "cell_type": "code",
   "source": "game_avg.head()",
   "id": "66d6aef28385afa3",
   "outputs": [
    {
     "data": {
      "text/plain": [
       "           game_id  avg_points_per_game        referee\n",
       "0   2021_01_BAL_LV            11.678947    Shawn Smith\n",
       "1   2021_01_CHI_LA            10.498889     Brad Allen\n",
       "2   2021_01_CLE_KC            10.981000  Bill Vinovich\n",
       "3   2021_01_DAL_TB            15.955000  Shawn Hochuli\n",
       "4  2021_01_DEN_NYG             9.242000    Ron Torbert"
      ],
      "text/html": [
       "<div>\n",
       "<style scoped>\n",
       "    .dataframe tbody tr th:only-of-type {\n",
       "        vertical-align: middle;\n",
       "    }\n",
       "\n",
       "    .dataframe tbody tr th {\n",
       "        vertical-align: top;\n",
       "    }\n",
       "\n",
       "    .dataframe thead th {\n",
       "        text-align: right;\n",
       "    }\n",
       "</style>\n",
       "<table border=\"1\" class=\"dataframe\">\n",
       "  <thead>\n",
       "    <tr style=\"text-align: right;\">\n",
       "      <th></th>\n",
       "      <th>game_id</th>\n",
       "      <th>avg_points_per_game</th>\n",
       "      <th>referee</th>\n",
       "    </tr>\n",
       "  </thead>\n",
       "  <tbody>\n",
       "    <tr>\n",
       "      <th>0</th>\n",
       "      <td>2021_01_BAL_LV</td>\n",
       "      <td>11.678947</td>\n",
       "      <td>Shawn Smith</td>\n",
       "    </tr>\n",
       "    <tr>\n",
       "      <th>1</th>\n",
       "      <td>2021_01_CHI_LA</td>\n",
       "      <td>10.498889</td>\n",
       "      <td>Brad Allen</td>\n",
       "    </tr>\n",
       "    <tr>\n",
       "      <th>2</th>\n",
       "      <td>2021_01_CLE_KC</td>\n",
       "      <td>10.981000</td>\n",
       "      <td>Bill Vinovich</td>\n",
       "    </tr>\n",
       "    <tr>\n",
       "      <th>3</th>\n",
       "      <td>2021_01_DAL_TB</td>\n",
       "      <td>15.955000</td>\n",
       "      <td>Shawn Hochuli</td>\n",
       "    </tr>\n",
       "    <tr>\n",
       "      <th>4</th>\n",
       "      <td>2021_01_DEN_NYG</td>\n",
       "      <td>9.242000</td>\n",
       "      <td>Ron Torbert</td>\n",
       "    </tr>\n",
       "  </tbody>\n",
       "</table>\n",
       "</div>"
      ]
     },
     "execution_count": 211,
     "metadata": {},
     "output_type": "execute_result"
    }
   ],
   "execution_count": 211
  },
  {
   "metadata": {
    "ExecuteTime": {
     "end_time": "2025-10-04T17:12:42.550913Z",
     "start_time": "2025-10-04T17:12:42.529479Z"
    }
   },
   "cell_type": "code",
   "source": [
    "# Avg points per game per ref\n",
    "ref_avg = (\n",
    "    game_avg.groupby('referee')\n",
    "        .agg(\n",
    "        avg_points_per_game=('avg_points_per_game', 'mean'),\n",
    "        game_count=('game_id', 'count')\n",
    "    )\n",
    "    .sort_values('avg_points_per_game', ascending=False)\n",
    "    .reset_index()\n",
    ")\n",
    "\n",
    "ref_avg.head(10)"
   ],
   "id": "3afefc968e6dbd02",
   "outputs": [
    {
     "data": {
      "text/plain": [
       "          referee  avg_points_per_game  game_count\n",
       "0   Bill Vinovich             9.633378          64\n",
       "1     Clay Martin             9.569498          64\n",
       "2   Carl Cheffers             9.543020          62\n",
       "3     Shawn Smith             9.509047          62\n",
       "4       Tra Blake             9.491661          48\n",
       "5   Shawn Hochuli             9.466222          64\n",
       "6      Brad Allen             9.442509          63\n",
       "7  Craig Wrolstad             9.436371          65\n",
       "8       Alex Kemp             9.433749          64\n",
       "9     Adrian Hill             9.408314          65"
      ],
      "text/html": [
       "<div>\n",
       "<style scoped>\n",
       "    .dataframe tbody tr th:only-of-type {\n",
       "        vertical-align: middle;\n",
       "    }\n",
       "\n",
       "    .dataframe tbody tr th {\n",
       "        vertical-align: top;\n",
       "    }\n",
       "\n",
       "    .dataframe thead th {\n",
       "        text-align: right;\n",
       "    }\n",
       "</style>\n",
       "<table border=\"1\" class=\"dataframe\">\n",
       "  <thead>\n",
       "    <tr style=\"text-align: right;\">\n",
       "      <th></th>\n",
       "      <th>referee</th>\n",
       "      <th>avg_points_per_game</th>\n",
       "      <th>game_count</th>\n",
       "    </tr>\n",
       "  </thead>\n",
       "  <tbody>\n",
       "    <tr>\n",
       "      <th>0</th>\n",
       "      <td>Bill Vinovich</td>\n",
       "      <td>9.633378</td>\n",
       "      <td>64</td>\n",
       "    </tr>\n",
       "    <tr>\n",
       "      <th>1</th>\n",
       "      <td>Clay Martin</td>\n",
       "      <td>9.569498</td>\n",
       "      <td>64</td>\n",
       "    </tr>\n",
       "    <tr>\n",
       "      <th>2</th>\n",
       "      <td>Carl Cheffers</td>\n",
       "      <td>9.543020</td>\n",
       "      <td>62</td>\n",
       "    </tr>\n",
       "    <tr>\n",
       "      <th>3</th>\n",
       "      <td>Shawn Smith</td>\n",
       "      <td>9.509047</td>\n",
       "      <td>62</td>\n",
       "    </tr>\n",
       "    <tr>\n",
       "      <th>4</th>\n",
       "      <td>Tra Blake</td>\n",
       "      <td>9.491661</td>\n",
       "      <td>48</td>\n",
       "    </tr>\n",
       "    <tr>\n",
       "      <th>5</th>\n",
       "      <td>Shawn Hochuli</td>\n",
       "      <td>9.466222</td>\n",
       "      <td>64</td>\n",
       "    </tr>\n",
       "    <tr>\n",
       "      <th>6</th>\n",
       "      <td>Brad Allen</td>\n",
       "      <td>9.442509</td>\n",
       "      <td>63</td>\n",
       "    </tr>\n",
       "    <tr>\n",
       "      <th>7</th>\n",
       "      <td>Craig Wrolstad</td>\n",
       "      <td>9.436371</td>\n",
       "      <td>65</td>\n",
       "    </tr>\n",
       "    <tr>\n",
       "      <th>8</th>\n",
       "      <td>Alex Kemp</td>\n",
       "      <td>9.433749</td>\n",
       "      <td>64</td>\n",
       "    </tr>\n",
       "    <tr>\n",
       "      <th>9</th>\n",
       "      <td>Adrian Hill</td>\n",
       "      <td>9.408314</td>\n",
       "      <td>65</td>\n",
       "    </tr>\n",
       "  </tbody>\n",
       "</table>\n",
       "</div>"
      ]
     },
     "execution_count": 217,
     "metadata": {},
     "output_type": "execute_result"
    }
   ],
   "execution_count": 217
  },
  {
   "metadata": {
    "ExecuteTime": {
     "end_time": "2025-10-04T17:12:49.024116Z",
     "start_time": "2025-10-04T17:12:49.016502Z"
    }
   },
   "cell_type": "code",
   "source": "ref_avg.tail(10)",
   "id": "fdfaae44cc19e069",
   "outputs": [
    {
     "data": {
      "text/plain": [
       "           referee  avg_points_per_game  game_count\n",
       "7   Craig Wrolstad             9.436371          65\n",
       "8        Alex Kemp             9.433749          64\n",
       "9      Adrian Hill             9.408314          65\n",
       "10     Brad Rogers             9.337692          64\n",
       "11     John Hussey             9.313944          64\n",
       "12     Scott Novak             9.266253          64\n",
       "13  Clete Blakeman             9.209852          64\n",
       "14     Ron Torbert             9.193404          64\n",
       "15      Land Clark             9.097212          64\n",
       "16        Alan Eck             8.515249          33"
      ],
      "text/html": [
       "<div>\n",
       "<style scoped>\n",
       "    .dataframe tbody tr th:only-of-type {\n",
       "        vertical-align: middle;\n",
       "    }\n",
       "\n",
       "    .dataframe tbody tr th {\n",
       "        vertical-align: top;\n",
       "    }\n",
       "\n",
       "    .dataframe thead th {\n",
       "        text-align: right;\n",
       "    }\n",
       "</style>\n",
       "<table border=\"1\" class=\"dataframe\">\n",
       "  <thead>\n",
       "    <tr style=\"text-align: right;\">\n",
       "      <th></th>\n",
       "      <th>referee</th>\n",
       "      <th>avg_points_per_game</th>\n",
       "      <th>game_count</th>\n",
       "    </tr>\n",
       "  </thead>\n",
       "  <tbody>\n",
       "    <tr>\n",
       "      <th>7</th>\n",
       "      <td>Craig Wrolstad</td>\n",
       "      <td>9.436371</td>\n",
       "      <td>65</td>\n",
       "    </tr>\n",
       "    <tr>\n",
       "      <th>8</th>\n",
       "      <td>Alex Kemp</td>\n",
       "      <td>9.433749</td>\n",
       "      <td>64</td>\n",
       "    </tr>\n",
       "    <tr>\n",
       "      <th>9</th>\n",
       "      <td>Adrian Hill</td>\n",
       "      <td>9.408314</td>\n",
       "      <td>65</td>\n",
       "    </tr>\n",
       "    <tr>\n",
       "      <th>10</th>\n",
       "      <td>Brad Rogers</td>\n",
       "      <td>9.337692</td>\n",
       "      <td>64</td>\n",
       "    </tr>\n",
       "    <tr>\n",
       "      <th>11</th>\n",
       "      <td>John Hussey</td>\n",
       "      <td>9.313944</td>\n",
       "      <td>64</td>\n",
       "    </tr>\n",
       "    <tr>\n",
       "      <th>12</th>\n",
       "      <td>Scott Novak</td>\n",
       "      <td>9.266253</td>\n",
       "      <td>64</td>\n",
       "    </tr>\n",
       "    <tr>\n",
       "      <th>13</th>\n",
       "      <td>Clete Blakeman</td>\n",
       "      <td>9.209852</td>\n",
       "      <td>64</td>\n",
       "    </tr>\n",
       "    <tr>\n",
       "      <th>14</th>\n",
       "      <td>Ron Torbert</td>\n",
       "      <td>9.193404</td>\n",
       "      <td>64</td>\n",
       "    </tr>\n",
       "    <tr>\n",
       "      <th>15</th>\n",
       "      <td>Land Clark</td>\n",
       "      <td>9.097212</td>\n",
       "      <td>64</td>\n",
       "    </tr>\n",
       "    <tr>\n",
       "      <th>16</th>\n",
       "      <td>Alan Eck</td>\n",
       "      <td>8.515249</td>\n",
       "      <td>33</td>\n",
       "    </tr>\n",
       "  </tbody>\n",
       "</table>\n",
       "</div>"
      ]
     },
     "execution_count": 218,
     "metadata": {},
     "output_type": "execute_result"
    }
   ],
   "execution_count": 218
  },
  {
   "metadata": {
    "ExecuteTime": {
     "end_time": "2025-10-04T17:13:07.032999Z",
     "start_time": "2025-10-04T17:13:06.877946Z"
    }
   },
   "cell_type": "code",
   "source": [
    "plt.figure(figsize=(10, 6))\n",
    "plt.scatter(\n",
    "    ref_avg['avg_points_per_game'],\n",
    "    ref_avg['referee'],\n",
    "    s=ref_avg['game_count'] * 10,  # bubble size = games\n",
    "    alpha=0.7\n",
    ")\n",
    "plt.xlabel('Average Fantasy Points Per Game')\n",
    "plt.ylabel('Referee')\n",
    "plt.title('Referees: Fantasy Points vs. Game Count')\n",
    "plt.tight_layout()\n",
    "plt.show()\n"
   ],
   "id": "3018ede2dcdd4bd9",
   "outputs": [
    {
     "data": {
      "text/plain": [
       "<Figure size 1000x600 with 1 Axes>"
      ],
      "image/png": "[encoded data removed]"
     },
     "metadata": {},
     "output_type": "display_data",
     "jetTransient": {
      "display_id": null
     }
    }
   ],
   "execution_count": 219
  },
  {
   "metadata": {},
   "cell_type": "code",
   "outputs": [],
   "execution_count": null,
   "source": "",
   "id": "cfd99c6b2f3bc12b"
  }
 ],
 "metadata": {
  "kernelspec": {
   "display_name": "Python 3",
   "language": "python",
   "name": "python3"
  },
  "language_info": {
   "codemirror_mode": {
    "name": "ipython",
    "version": 2
   },
   "file_extension": ".py",
   "mimetype": "text/x-python",
   "name": "python",
   "nbconvert_exporter": "python",
   "pygments_lexer": "ipython2",
   "version": "2.7.6"
  }
 },
 "nbformat": 4,
 "nbformat_minor": 5
}
