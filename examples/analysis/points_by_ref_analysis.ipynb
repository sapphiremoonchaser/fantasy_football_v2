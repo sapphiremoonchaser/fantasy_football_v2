{
 "cells": [
  {
   "metadata": {},
   "cell_type": "markdown",
   "source": "# Point by Ref Analysis",
   "id": "ff86c21a02e4343f"
  },
  {
   "metadata": {
    "collapsed": true,
    "ExecuteTime": {
     "end_time": "2025-10-04T16:57:35.747508Z",
     "start_time": "2025-10-04T16:57:35.726513Z"
    }
   },
   "cell_type": "code",
   "source": [
    "from src.fantasy_football_v2.data.generate_dataframes.generate_weekly_points_df import generate_weekly_points_df\n",
    "from src.fantasy_football_v2.data.generate_dataframes.generate_ref_df import generate_ref_df\n",
    "from src.fantasy_football_v2.data.generate_dataframes.generate_game_df import generate_game_df\n",
    "\n",
    "import matplotlib.pyplot as plt"
   ],
   "id": "14d36dfa391621b8",
   "outputs": [
    {
     "ename": "ModuleNotFoundError",
     "evalue": "No module named 'matplotlib'",
     "output_type": "error",
     "traceback": [
      "\u001B[31m---------------------------------------------------------------------------\u001B[39m",
      "\u001B[31mModuleNotFoundError\u001B[39m                       Traceback (most recent call last)",
      "\u001B[36mCell\u001B[39m\u001B[36m \u001B[39m\u001B[32mIn[143]\u001B[39m\u001B[32m, line 5\u001B[39m\n\u001B[32m      2\u001B[39m \u001B[38;5;28;01mfrom\u001B[39;00m\u001B[38;5;250m \u001B[39m\u001B[34;01msrc\u001B[39;00m\u001B[34;01m.\u001B[39;00m\u001B[34;01mfantasy_football_v2\u001B[39;00m\u001B[34;01m.\u001B[39;00m\u001B[34;01mdata\u001B[39;00m\u001B[34;01m.\u001B[39;00m\u001B[34;01mgenerate_dataframes\u001B[39;00m\u001B[34;01m.\u001B[39;00m\u001B[34;01mgenerate_ref_df\u001B[39;00m\u001B[38;5;250m \u001B[39m\u001B[38;5;28;01mimport\u001B[39;00m generate_ref_df\n\u001B[32m      3\u001B[39m \u001B[38;5;28;01mfrom\u001B[39;00m\u001B[38;5;250m \u001B[39m\u001B[34;01msrc\u001B[39;00m\u001B[34;01m.\u001B[39;00m\u001B[34;01mfantasy_football_v2\u001B[39;00m\u001B[34;01m.\u001B[39;00m\u001B[34;01mdata\u001B[39;00m\u001B[34;01m.\u001B[39;00m\u001B[34;01mgenerate_dataframes\u001B[39;00m\u001B[34;01m.\u001B[39;00m\u001B[34;01mgenerate_game_df\u001B[39;00m\u001B[38;5;250m \u001B[39m\u001B[38;5;28;01mimport\u001B[39;00m generate_game_df\n\u001B[32m----> \u001B[39m\u001B[32m5\u001B[39m \u001B[38;5;28;01mimport\u001B[39;00m\u001B[38;5;250m \u001B[39m\u001B[34;01mmatplotlib\u001B[39;00m\u001B[34;01m.\u001B[39;00m\u001B[34;01mpyplot\u001B[39;00m\u001B[38;5;250m \u001B[39m\u001B[38;5;28;01mas\u001B[39;00m\u001B[38;5;250m \u001B[39m\u001B[34;01mplt\u001B[39;00m\n",
      "\u001B[31mModuleNotFoundError\u001B[39m: No module named 'matplotlib'"
     ]
    }
   ],
   "execution_count": 143
  },
  {
   "metadata": {
    "ExecuteTime": {
     "end_time": "2025-10-04T16:54:57.294601Z",
     "start_time": "2025-10-04T16:54:57.000211Z"
    }
   },
   "cell_type": "code",
   "source": [
    "# Ref dataframe with current refs\n",
    "ref_df = generate_ref_df(\n",
    "    years=[2025]\n",
    ").reindex()\n",
    "ref_df.head()"
   ],
   "id": "775b045b5d9d09a9",
   "outputs": [
    {
     "data": {
      "text/plain": [
       "             id            name  season position\n",
       "48910  SmitSh0r     Shawn Smith    2025        R\n",
       "48911  BlakTr0r       Tra Blake    2025        U\n",
       "48912  BilbJa0r       Jay Bilbo    2025       DJ\n",
       "48913  SeemJe0r     Jeff Seeman    2025       LJ\n",
       "48914  PagaDi0r  Dino Paganelli    2025       BJ"
      ],
      "text/html": [
       "<div>\n",
       "<style scoped>\n",
       "    .dataframe tbody tr th:only-of-type {\n",
       "        vertical-align: middle;\n",
       "    }\n",
       "\n",
       "    .dataframe tbody tr th {\n",
       "        vertical-align: top;\n",
       "    }\n",
       "\n",
       "    .dataframe thead th {\n",
       "        text-align: right;\n",
       "    }\n",
       "</style>\n",
       "<table border=\"1\" class=\"dataframe\">\n",
       "  <thead>\n",
       "    <tr style=\"text-align: right;\">\n",
       "      <th></th>\n",
       "      <th>id</th>\n",
       "      <th>name</th>\n",
       "      <th>season</th>\n",
       "      <th>position</th>\n",
       "    </tr>\n",
       "  </thead>\n",
       "  <tbody>\n",
       "    <tr>\n",
       "      <th>48910</th>\n",
       "      <td>SmitSh0r</td>\n",
       "      <td>Shawn Smith</td>\n",
       "      <td>2025</td>\n",
       "      <td>R</td>\n",
       "    </tr>\n",
       "    <tr>\n",
       "      <th>48911</th>\n",
       "      <td>BlakTr0r</td>\n",
       "      <td>Tra Blake</td>\n",
       "      <td>2025</td>\n",
       "      <td>U</td>\n",
       "    </tr>\n",
       "    <tr>\n",
       "      <th>48912</th>\n",
       "      <td>BilbJa0r</td>\n",
       "      <td>Jay Bilbo</td>\n",
       "      <td>2025</td>\n",
       "      <td>DJ</td>\n",
       "    </tr>\n",
       "    <tr>\n",
       "      <th>48913</th>\n",
       "      <td>SeemJe0r</td>\n",
       "      <td>Jeff Seeman</td>\n",
       "      <td>2025</td>\n",
       "      <td>LJ</td>\n",
       "    </tr>\n",
       "    <tr>\n",
       "      <th>48914</th>\n",
       "      <td>PagaDi0r</td>\n",
       "      <td>Dino Paganelli</td>\n",
       "      <td>2025</td>\n",
       "      <td>BJ</td>\n",
       "    </tr>\n",
       "  </tbody>\n",
       "</table>\n",
       "</div>"
      ]
     },
     "execution_count": 122,
     "metadata": {},
     "output_type": "execute_result"
    }
   ],
   "execution_count": 122
  },
  {
   "metadata": {
    "ExecuteTime": {
     "end_time": "2025-10-04T16:54:59.304587Z",
     "start_time": "2025-10-04T16:54:59.301092Z"
    }
   },
   "cell_type": "code",
   "source": "ref_df.shape",
   "id": "62fcb07e1529c793",
   "outputs": [
    {
     "data": {
      "text/plain": [
       "(120, 4)"
      ]
     },
     "execution_count": 123,
     "metadata": {},
     "output_type": "execute_result"
    }
   ],
   "execution_count": 123
  },
  {
   "metadata": {
    "ExecuteTime": {
     "end_time": "2025-10-04T16:55:01.686381Z",
     "start_time": "2025-10-04T16:55:01.325221Z"
    }
   },
   "cell_type": "code",
   "source": [
    "# Dataframe of games (including ref)\n",
    "game_df = generate_game_df(\n",
    "    years=[2021, 2022, 2023, 2024, 2025]\n",
    ").reindex()\n",
    "game_df.shape"
   ],
   "id": "6a1d0242d854e84f",
   "outputs": [
    {
     "data": {
      "text/plain": [
       "(1359, 5)"
      ]
     },
     "execution_count": 124,
     "metadata": {},
     "output_type": "execute_result"
    }
   ],
   "execution_count": 124
  },
  {
   "metadata": {
    "ExecuteTime": {
     "end_time": "2025-10-04T16:55:03.279449Z",
     "start_time": "2025-10-04T16:55:03.272024Z"
    }
   },
   "cell_type": "code",
   "source": [
    "# Join game_df and ref_df so that only games with current refs are included\n",
    "game_df = game_df.merge(\n",
    "    ref_df,\n",
    "    left_on=['referee'],\n",
    "    right_on=['name'],\n",
    "    how='inner'\n",
    ")\n",
    "\n",
    "# Drop extra columns (keep these)\n",
    "game_df = game_df[[\n",
    "    'game_id',\n",
    "    'season_x',\n",
    "    'week',\n",
    "    'teams',\n",
    "    'referee'\n",
    "]]\n",
    "\n",
    "# Rename column\n",
    "game_df = game_df.rename(\n",
    "    columns={\n",
    "        'season_x': 'season'\n",
    "    }\n",
    ")\n",
    "\n",
    "game_df.shape"
   ],
   "id": "65752f3719aeb1a9",
   "outputs": [
    {
     "data": {
      "text/plain": [
       "(1103, 5)"
      ]
     },
     "execution_count": 125,
     "metadata": {},
     "output_type": "execute_result"
    }
   ],
   "execution_count": 125
  },
  {
   "metadata": {
    "ExecuteTime": {
     "end_time": "2025-10-04T16:55:05.924375Z",
     "start_time": "2025-10-04T16:55:05.916296Z"
    }
   },
   "cell_type": "code",
   "source": "game_df.head()",
   "id": "e7be3a08fd115cd3",
   "outputs": [
    {
     "data": {
      "text/plain": [
       "           game_id  season  week       teams        referee\n",
       "0   2021_01_DAL_TB    2021     1   [DAL, TB]  Shawn Hochuli\n",
       "1   2021_02_NE_NYJ    2021     2   [NE, NYJ]  Shawn Hochuli\n",
       "2   2021_03_LAC_KC    2021     3   [LAC, KC]  Shawn Hochuli\n",
       "3   2021_04_ARI_LA    2021     4   [ARI, LA]  Shawn Hochuli\n",
       "4  2021_05_PHI_CAR    2021     5  [PHI, CAR]  Shawn Hochuli"
      ],
      "text/html": [
       "<div>\n",
       "<style scoped>\n",
       "    .dataframe tbody tr th:only-of-type {\n",
       "        vertical-align: middle;\n",
       "    }\n",
       "\n",
       "    .dataframe tbody tr th {\n",
       "        vertical-align: top;\n",
       "    }\n",
       "\n",
       "    .dataframe thead th {\n",
       "        text-align: right;\n",
       "    }\n",
       "</style>\n",
       "<table border=\"1\" class=\"dataframe\">\n",
       "  <thead>\n",
       "    <tr style=\"text-align: right;\">\n",
       "      <th></th>\n",
       "      <th>game_id</th>\n",
       "      <th>season</th>\n",
       "      <th>week</th>\n",
       "      <th>teams</th>\n",
       "      <th>referee</th>\n",
       "    </tr>\n",
       "  </thead>\n",
       "  <tbody>\n",
       "    <tr>\n",
       "      <th>0</th>\n",
       "      <td>2021_01_DAL_TB</td>\n",
       "      <td>2021</td>\n",
       "      <td>1</td>\n",
       "      <td>[DAL, TB]</td>\n",
       "      <td>Shawn Hochuli</td>\n",
       "    </tr>\n",
       "    <tr>\n",
       "      <th>1</th>\n",
       "      <td>2021_02_NE_NYJ</td>\n",
       "      <td>2021</td>\n",
       "      <td>2</td>\n",
       "      <td>[NE, NYJ]</td>\n",
       "      <td>Shawn Hochuli</td>\n",
       "    </tr>\n",
       "    <tr>\n",
       "      <th>2</th>\n",
       "      <td>2021_03_LAC_KC</td>\n",
       "      <td>2021</td>\n",
       "      <td>3</td>\n",
       "      <td>[LAC, KC]</td>\n",
       "      <td>Shawn Hochuli</td>\n",
       "    </tr>\n",
       "    <tr>\n",
       "      <th>3</th>\n",
       "      <td>2021_04_ARI_LA</td>\n",
       "      <td>2021</td>\n",
       "      <td>4</td>\n",
       "      <td>[ARI, LA]</td>\n",
       "      <td>Shawn Hochuli</td>\n",
       "    </tr>\n",
       "    <tr>\n",
       "      <th>4</th>\n",
       "      <td>2021_05_PHI_CAR</td>\n",
       "      <td>2021</td>\n",
       "      <td>5</td>\n",
       "      <td>[PHI, CAR]</td>\n",
       "      <td>Shawn Hochuli</td>\n",
       "    </tr>\n",
       "  </tbody>\n",
       "</table>\n",
       "</div>"
      ]
     },
     "execution_count": 126,
     "metadata": {},
     "output_type": "execute_result"
    }
   ],
   "execution_count": 126
  },
  {
   "metadata": {
    "ExecuteTime": {
     "end_time": "2025-10-04T16:55:09.603627Z",
     "start_time": "2025-10-04T16:55:07.775707Z"
    }
   },
   "cell_type": "code",
   "source": [
    "# Create dataframe of weekly points\n",
    "points_df = generate_weekly_points_df().reindex()\n",
    "\n",
    "# Join points_df and game_df so that only games with current refs are included\n",
    "points_df = points_df.merge(\n",
    "    game_df,\n",
    "    on=['game_id'],\n",
    "    how='inner',\n",
    "    suffixes=(\"\", \"_df1\")\n",
    ")\n",
    "\n",
    "# Drop extra columns (keep these)\n",
    "points_df = points_df[[\n",
    "    'game_id',\n",
    "    'season',\n",
    "    'week',\n",
    "    'player_id',\n",
    "    'player_display_name',\n",
    "    'recent_team',\n",
    "    'position',\n",
    "    'teams',\n",
    "    'referee',\n",
    "    'fantasy_points_ppr'\n",
    "]]\n",
    "\n",
    "points_df.shape"
   ],
   "id": "ad9933858793ae1b",
   "outputs": [
    {
     "name": "stdout",
     "output_type": "stream",
     "text": [
      "Downcasting floats.\n"
     ]
    },
    {
     "data": {
      "text/plain": [
       "(20607, 10)"
      ]
     },
     "execution_count": 127,
     "metadata": {},
     "output_type": "execute_result"
    }
   ],
   "execution_count": 127
  },
  {
   "metadata": {
    "ExecuteTime": {
     "end_time": "2025-10-04T16:55:10.860165Z",
     "start_time": "2025-10-04T16:55:10.853610Z"
    }
   },
   "cell_type": "code",
   "source": [
    "# Remove players with 0 points\n",
    "points_df = points_df[\n",
    "    points_df['fantasy_points_ppr'] > 0\n",
    "]\n",
    "\n",
    "points_df.shape"
   ],
   "id": "dbf68bbe8f7091f0",
   "outputs": [
    {
     "data": {
      "text/plain": [
       "(18916, 10)"
      ]
     },
     "execution_count": 128,
     "metadata": {},
     "output_type": "execute_result"
    }
   ],
   "execution_count": 128
  },
  {
   "metadata": {
    "ExecuteTime": {
     "end_time": "2025-10-04T16:55:12.929543Z",
     "start_time": "2025-10-04T16:55:12.915233Z"
    }
   },
   "cell_type": "code",
   "source": "points_df.head()",
   "id": "558d86314ec62cd6",
   "outputs": [
    {
     "data": {
      "text/plain": [
       "          game_id  season  week   player_id player_display_name recent_team  \\\n",
       "0  2024_01_NYJ_SF    2024     1  00-0023459       Aaron Rodgers         NYJ   \n",
       "1  2024_01_NYJ_SF    2024     1  00-0028118        Tyrod Taylor         NYJ   \n",
       "2  2024_01_NYJ_SF    2024     1  00-0029892       Kyle Juszczyk          SF   \n",
       "4  2024_01_NYJ_SF    2024     1  00-0033288       George Kittle          SF   \n",
       "6  2024_01_NYJ_SF    2024     1  00-0034270       Tyler Conklin         NYJ   \n",
       "\n",
       "  position      teams        referee  fantasy_points_ppr  \n",
       "0       QB  [NYJ, SF]  Carl Cheffers                8.58  \n",
       "1       QB  [NYJ, SF]  Carl Cheffers                6.14  \n",
       "2       FB  [NYJ, SF]  Carl Cheffers                6.00  \n",
       "4       TE  [NYJ, SF]  Carl Cheffers                8.00  \n",
       "6       TE  [NYJ, SF]  Carl Cheffers                1.60  "
      ],
      "text/html": [
       "<div>\n",
       "<style scoped>\n",
       "    .dataframe tbody tr th:only-of-type {\n",
       "        vertical-align: middle;\n",
       "    }\n",
       "\n",
       "    .dataframe tbody tr th {\n",
       "        vertical-align: top;\n",
       "    }\n",
       "\n",
       "    .dataframe thead th {\n",
       "        text-align: right;\n",
       "    }\n",
       "</style>\n",
       "<table border=\"1\" class=\"dataframe\">\n",
       "  <thead>\n",
       "    <tr style=\"text-align: right;\">\n",
       "      <th></th>\n",
       "      <th>game_id</th>\n",
       "      <th>season</th>\n",
       "      <th>week</th>\n",
       "      <th>player_id</th>\n",
       "      <th>player_display_name</th>\n",
       "      <th>recent_team</th>\n",
       "      <th>position</th>\n",
       "      <th>teams</th>\n",
       "      <th>referee</th>\n",
       "      <th>fantasy_points_ppr</th>\n",
       "    </tr>\n",
       "  </thead>\n",
       "  <tbody>\n",
       "    <tr>\n",
       "      <th>0</th>\n",
       "      <td>2024_01_NYJ_SF</td>\n",
       "      <td>2024</td>\n",
       "      <td>1</td>\n",
       "      <td>00-0023459</td>\n",
       "      <td>Aaron Rodgers</td>\n",
       "      <td>NYJ</td>\n",
       "      <td>QB</td>\n",
       "      <td>[NYJ, SF]</td>\n",
       "      <td>Carl Cheffers</td>\n",
       "      <td>8.58</td>\n",
       "    </tr>\n",
       "    <tr>\n",
       "      <th>1</th>\n",
       "      <td>2024_01_NYJ_SF</td>\n",
       "      <td>2024</td>\n",
       "      <td>1</td>\n",
       "      <td>00-0028118</td>\n",
       "      <td>Tyrod Taylor</td>\n",
       "      <td>NYJ</td>\n",
       "      <td>QB</td>\n",
       "      <td>[NYJ, SF]</td>\n",
       "      <td>Carl Cheffers</td>\n",
       "      <td>6.14</td>\n",
       "    </tr>\n",
       "    <tr>\n",
       "      <th>2</th>\n",
       "      <td>2024_01_NYJ_SF</td>\n",
       "      <td>2024</td>\n",
       "      <td>1</td>\n",
       "      <td>00-0029892</td>\n",
       "      <td>Kyle Juszczyk</td>\n",
       "      <td>SF</td>\n",
       "      <td>FB</td>\n",
       "      <td>[NYJ, SF]</td>\n",
       "      <td>Carl Cheffers</td>\n",
       "      <td>6.00</td>\n",
       "    </tr>\n",
       "    <tr>\n",
       "      <th>4</th>\n",
       "      <td>2024_01_NYJ_SF</td>\n",
       "      <td>2024</td>\n",
       "      <td>1</td>\n",
       "      <td>00-0033288</td>\n",
       "      <td>George Kittle</td>\n",
       "      <td>SF</td>\n",
       "      <td>TE</td>\n",
       "      <td>[NYJ, SF]</td>\n",
       "      <td>Carl Cheffers</td>\n",
       "      <td>8.00</td>\n",
       "    </tr>\n",
       "    <tr>\n",
       "      <th>6</th>\n",
       "      <td>2024_01_NYJ_SF</td>\n",
       "      <td>2024</td>\n",
       "      <td>1</td>\n",
       "      <td>00-0034270</td>\n",
       "      <td>Tyler Conklin</td>\n",
       "      <td>NYJ</td>\n",
       "      <td>TE</td>\n",
       "      <td>[NYJ, SF]</td>\n",
       "      <td>Carl Cheffers</td>\n",
       "      <td>1.60</td>\n",
       "    </tr>\n",
       "  </tbody>\n",
       "</table>\n",
       "</div>"
      ]
     },
     "execution_count": 129,
     "metadata": {},
     "output_type": "execute_result"
    }
   ],
   "execution_count": 129
  },
  {
   "metadata": {
    "ExecuteTime": {
     "end_time": "2025-10-04T16:55:58.080612Z",
     "start_time": "2025-10-04T16:55:58.071591Z"
    }
   },
   "cell_type": "code",
   "source": [
    "# Average fantasy points per game\n",
    "game_avg = points_df.groupby('game_id')['fantasy_points_ppr'].mean().reset_index()\n",
    "\n",
    "# Rename fantasy_points_ppr to avg_points_per_game\n",
    "game_avg.rename(\n",
    "    columns={\n",
    "        'fantasy_points_ppr': 'avg_points_per_game'\n",
    "    },\n",
    "    inplace=True\n",
    ")\n",
    "\n",
    "game_avg.head()"
   ],
   "id": "552e8ca48938dbf1",
   "outputs": [
    {
     "data": {
      "text/plain": [
       "           game_id  avg_points_per_game\n",
       "0   2021_01_BAL_LV            11.678947\n",
       "1   2021_01_CHI_LA            10.498889\n",
       "2   2021_01_CLE_KC            10.981000\n",
       "3   2021_01_DAL_TB            15.955000\n",
       "4  2021_01_DEN_NYG             9.242000"
      ],
      "text/html": [
       "<div>\n",
       "<style scoped>\n",
       "    .dataframe tbody tr th:only-of-type {\n",
       "        vertical-align: middle;\n",
       "    }\n",
       "\n",
       "    .dataframe tbody tr th {\n",
       "        vertical-align: top;\n",
       "    }\n",
       "\n",
       "    .dataframe thead th {\n",
       "        text-align: right;\n",
       "    }\n",
       "</style>\n",
       "<table border=\"1\" class=\"dataframe\">\n",
       "  <thead>\n",
       "    <tr style=\"text-align: right;\">\n",
       "      <th></th>\n",
       "      <th>game_id</th>\n",
       "      <th>avg_points_per_game</th>\n",
       "    </tr>\n",
       "  </thead>\n",
       "  <tbody>\n",
       "    <tr>\n",
       "      <th>0</th>\n",
       "      <td>2021_01_BAL_LV</td>\n",
       "      <td>11.678947</td>\n",
       "    </tr>\n",
       "    <tr>\n",
       "      <th>1</th>\n",
       "      <td>2021_01_CHI_LA</td>\n",
       "      <td>10.498889</td>\n",
       "    </tr>\n",
       "    <tr>\n",
       "      <th>2</th>\n",
       "      <td>2021_01_CLE_KC</td>\n",
       "      <td>10.981000</td>\n",
       "    </tr>\n",
       "    <tr>\n",
       "      <th>3</th>\n",
       "      <td>2021_01_DAL_TB</td>\n",
       "      <td>15.955000</td>\n",
       "    </tr>\n",
       "    <tr>\n",
       "      <th>4</th>\n",
       "      <td>2021_01_DEN_NYG</td>\n",
       "      <td>9.242000</td>\n",
       "    </tr>\n",
       "  </tbody>\n",
       "</table>\n",
       "</div>"
      ]
     },
     "execution_count": 138,
     "metadata": {},
     "output_type": "execute_result"
    }
   ],
   "execution_count": 138
  },
  {
   "metadata": {
    "ExecuteTime": {
     "end_time": "2025-10-04T16:56:00.297297Z",
     "start_time": "2025-10-04T16:56:00.287125Z"
    }
   },
   "cell_type": "code",
   "source": [
    "# Add ref column (all players in a game have the same ref)\n",
    "# drop duplicates firts\n",
    "points_df_deduped = points_df[[\n",
    "    'game_id',\n",
    "    'referee'\n",
    "]].drop_duplicates()\n",
    "\n",
    "game_avg = game_avg.merge(\n",
    "    points_df_deduped,\n",
    "    on='game_id'\n",
    ")\n",
    "\n",
    "# remove un-needed columns\n",
    "game_avg = game_avg[[\n",
    "    'game_id',\n",
    "    'avg_points_per_game',\n",
    "    'referee'\n",
    "]]\n",
    "\n",
    "# Rename referee_x to referee\n",
    "game_avg.rename(\n",
    "    columns={\n",
    "        'referee_x': 'referee'\n",
    "    },\n",
    "    inplace=True\n",
    ")\n"
   ],
   "id": "e0f2ae926ab09698",
   "outputs": [],
   "execution_count": 139
  },
  {
   "metadata": {
    "ExecuteTime": {
     "end_time": "2025-10-04T16:56:03.778281Z",
     "start_time": "2025-10-04T16:56:03.771380Z"
    }
   },
   "cell_type": "code",
   "source": "game_avg.head()",
   "id": "66d6aef28385afa3",
   "outputs": [
    {
     "data": {
      "text/plain": [
       "           game_id  avg_points_per_game        referee\n",
       "0   2021_01_BAL_LV            11.678947    Shawn Smith\n",
       "1   2021_01_CHI_LA            10.498889     Brad Allen\n",
       "2   2021_01_CLE_KC            10.981000  Bill Vinovich\n",
       "3   2021_01_DAL_TB            15.955000  Shawn Hochuli\n",
       "4  2021_01_DEN_NYG             9.242000    Ron Torbert"
      ],
      "text/html": [
       "<div>\n",
       "<style scoped>\n",
       "    .dataframe tbody tr th:only-of-type {\n",
       "        vertical-align: middle;\n",
       "    }\n",
       "\n",
       "    .dataframe tbody tr th {\n",
       "        vertical-align: top;\n",
       "    }\n",
       "\n",
       "    .dataframe thead th {\n",
       "        text-align: right;\n",
       "    }\n",
       "</style>\n",
       "<table border=\"1\" class=\"dataframe\">\n",
       "  <thead>\n",
       "    <tr style=\"text-align: right;\">\n",
       "      <th></th>\n",
       "      <th>game_id</th>\n",
       "      <th>avg_points_per_game</th>\n",
       "      <th>referee</th>\n",
       "    </tr>\n",
       "  </thead>\n",
       "  <tbody>\n",
       "    <tr>\n",
       "      <th>0</th>\n",
       "      <td>2021_01_BAL_LV</td>\n",
       "      <td>11.678947</td>\n",
       "      <td>Shawn Smith</td>\n",
       "    </tr>\n",
       "    <tr>\n",
       "      <th>1</th>\n",
       "      <td>2021_01_CHI_LA</td>\n",
       "      <td>10.498889</td>\n",
       "      <td>Brad Allen</td>\n",
       "    </tr>\n",
       "    <tr>\n",
       "      <th>2</th>\n",
       "      <td>2021_01_CLE_KC</td>\n",
       "      <td>10.981000</td>\n",
       "      <td>Bill Vinovich</td>\n",
       "    </tr>\n",
       "    <tr>\n",
       "      <th>3</th>\n",
       "      <td>2021_01_DAL_TB</td>\n",
       "      <td>15.955000</td>\n",
       "      <td>Shawn Hochuli</td>\n",
       "    </tr>\n",
       "    <tr>\n",
       "      <th>4</th>\n",
       "      <td>2021_01_DEN_NYG</td>\n",
       "      <td>9.242000</td>\n",
       "      <td>Ron Torbert</td>\n",
       "    </tr>\n",
       "  </tbody>\n",
       "</table>\n",
       "</div>"
      ]
     },
     "execution_count": 140,
     "metadata": {},
     "output_type": "execute_result"
    }
   ],
   "execution_count": 140
  },
  {
   "metadata": {
    "ExecuteTime": {
     "end_time": "2025-10-04T16:56:06.770396Z",
     "start_time": "2025-10-04T16:56:06.762615Z"
    }
   },
   "cell_type": "code",
   "source": [
    "# Avg points per game per ref\n",
    "ref_avg = game_avg.groupby('referee').mean('avg_points_per_game').sort_values('avg_points_per_game', ascending=False)\n",
    "ref_avg.head(10)"
   ],
   "id": "3afefc968e6dbd02",
   "outputs": [
    {
     "data": {
      "text/plain": [
       "                avg_points_per_game\n",
       "referee                            \n",
       "Bill Vinovich              9.633378\n",
       "Clay Martin                9.569498\n",
       "Carl Cheffers              9.543020\n",
       "Shawn Smith                9.509047\n",
       "Tra Blake                  9.491661\n",
       "Shawn Hochuli              9.466222\n",
       "Brad Allen                 9.442509\n",
       "Craig Wrolstad             9.436371\n",
       "Alex Kemp                  9.433749\n",
       "Adrian Hill                9.408314"
      ],
      "text/html": [
       "<div>\n",
       "<style scoped>\n",
       "    .dataframe tbody tr th:only-of-type {\n",
       "        vertical-align: middle;\n",
       "    }\n",
       "\n",
       "    .dataframe tbody tr th {\n",
       "        vertical-align: top;\n",
       "    }\n",
       "\n",
       "    .dataframe thead th {\n",
       "        text-align: right;\n",
       "    }\n",
       "</style>\n",
       "<table border=\"1\" class=\"dataframe\">\n",
       "  <thead>\n",
       "    <tr style=\"text-align: right;\">\n",
       "      <th></th>\n",
       "      <th>avg_points_per_game</th>\n",
       "    </tr>\n",
       "    <tr>\n",
       "      <th>referee</th>\n",
       "      <th></th>\n",
       "    </tr>\n",
       "  </thead>\n",
       "  <tbody>\n",
       "    <tr>\n",
       "      <th>Bill Vinovich</th>\n",
       "      <td>9.633378</td>\n",
       "    </tr>\n",
       "    <tr>\n",
       "      <th>Clay Martin</th>\n",
       "      <td>9.569498</td>\n",
       "    </tr>\n",
       "    <tr>\n",
       "      <th>Carl Cheffers</th>\n",
       "      <td>9.543020</td>\n",
       "    </tr>\n",
       "    <tr>\n",
       "      <th>Shawn Smith</th>\n",
       "      <td>9.509047</td>\n",
       "    </tr>\n",
       "    <tr>\n",
       "      <th>Tra Blake</th>\n",
       "      <td>9.491661</td>\n",
       "    </tr>\n",
       "    <tr>\n",
       "      <th>Shawn Hochuli</th>\n",
       "      <td>9.466222</td>\n",
       "    </tr>\n",
       "    <tr>\n",
       "      <th>Brad Allen</th>\n",
       "      <td>9.442509</td>\n",
       "    </tr>\n",
       "    <tr>\n",
       "      <th>Craig Wrolstad</th>\n",
       "      <td>9.436371</td>\n",
       "    </tr>\n",
       "    <tr>\n",
       "      <th>Alex Kemp</th>\n",
       "      <td>9.433749</td>\n",
       "    </tr>\n",
       "    <tr>\n",
       "      <th>Adrian Hill</th>\n",
       "      <td>9.408314</td>\n",
       "    </tr>\n",
       "  </tbody>\n",
       "</table>\n",
       "</div>"
      ]
     },
     "execution_count": 141,
     "metadata": {},
     "output_type": "execute_result"
    }
   ],
   "execution_count": 141
  },
  {
   "metadata": {
    "ExecuteTime": {
     "end_time": "2025-10-04T16:56:09.528632Z",
     "start_time": "2025-10-04T16:56:09.522538Z"
    }
   },
   "cell_type": "code",
   "source": "ref_avg.tail(10)",
   "id": "fdfaae44cc19e069",
   "outputs": [
    {
     "data": {
      "text/plain": [
       "                avg_points_per_game\n",
       "referee                            \n",
       "Craig Wrolstad             9.436371\n",
       "Alex Kemp                  9.433749\n",
       "Adrian Hill                9.408314\n",
       "Brad Rogers                9.337692\n",
       "John Hussey                9.313944\n",
       "Scott Novak                9.266253\n",
       "Clete Blakeman             9.209852\n",
       "Ron Torbert                9.193404\n",
       "Land Clark                 9.097212\n",
       "Alan Eck                   8.515249"
      ],
      "text/html": [
       "<div>\n",
       "<style scoped>\n",
       "    .dataframe tbody tr th:only-of-type {\n",
       "        vertical-align: middle;\n",
       "    }\n",
       "\n",
       "    .dataframe tbody tr th {\n",
       "        vertical-align: top;\n",
       "    }\n",
       "\n",
       "    .dataframe thead th {\n",
       "        text-align: right;\n",
       "    }\n",
       "</style>\n",
       "<table border=\"1\" class=\"dataframe\">\n",
       "  <thead>\n",
       "    <tr style=\"text-align: right;\">\n",
       "      <th></th>\n",
       "      <th>avg_points_per_game</th>\n",
       "    </tr>\n",
       "    <tr>\n",
       "      <th>referee</th>\n",
       "      <th></th>\n",
       "    </tr>\n",
       "  </thead>\n",
       "  <tbody>\n",
       "    <tr>\n",
       "      <th>Craig Wrolstad</th>\n",
       "      <td>9.436371</td>\n",
       "    </tr>\n",
       "    <tr>\n",
       "      <th>Alex Kemp</th>\n",
       "      <td>9.433749</td>\n",
       "    </tr>\n",
       "    <tr>\n",
       "      <th>Adrian Hill</th>\n",
       "      <td>9.408314</td>\n",
       "    </tr>\n",
       "    <tr>\n",
       "      <th>Brad Rogers</th>\n",
       "      <td>9.337692</td>\n",
       "    </tr>\n",
       "    <tr>\n",
       "      <th>John Hussey</th>\n",
       "      <td>9.313944</td>\n",
       "    </tr>\n",
       "    <tr>\n",
       "      <th>Scott Novak</th>\n",
       "      <td>9.266253</td>\n",
       "    </tr>\n",
       "    <tr>\n",
       "      <th>Clete Blakeman</th>\n",
       "      <td>9.209852</td>\n",
       "    </tr>\n",
       "    <tr>\n",
       "      <th>Ron Torbert</th>\n",
       "      <td>9.193404</td>\n",
       "    </tr>\n",
       "    <tr>\n",
       "      <th>Land Clark</th>\n",
       "      <td>9.097212</td>\n",
       "    </tr>\n",
       "    <tr>\n",
       "      <th>Alan Eck</th>\n",
       "      <td>8.515249</td>\n",
       "    </tr>\n",
       "  </tbody>\n",
       "</table>\n",
       "</div>"
      ]
     },
     "execution_count": 142,
     "metadata": {},
     "output_type": "execute_result"
    }
   ],
   "execution_count": 142
  },
  {
   "metadata": {},
   "cell_type": "code",
   "outputs": [],
   "execution_count": null,
   "source": "",
   "id": "3018ede2dcdd4bd9"
  }
 ],
 "metadata": {
  "kernelspec": {
   "display_name": "Python 3",
   "language": "python",
   "name": "python3"
  },
  "language_info": {
   "codemirror_mode": {
    "name": "ipython",
    "version": 2
   },
   "file_extension": ".py",
   "mimetype": "text/x-python",
   "name": "python",
   "nbconvert_exporter": "python",
   "pygments_lexer": "ipython2",
   "version": "2.7.6"
  }
 },
 "nbformat": 4,
 "nbformat_minor": 5
}
