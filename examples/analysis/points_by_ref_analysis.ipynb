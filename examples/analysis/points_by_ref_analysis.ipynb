{
 "cells": [
  {
   "metadata": {},
   "cell_type": "markdown",
   "source": "# Point by Ref Analysis",
   "id": "ff86c21a02e4343f"
  },
  {
   "metadata": {
    "collapsed": true,
    "ExecuteTime": {
     "end_time": "2025-10-03T20:49:53.916358Z",
     "start_time": "2025-10-03T20:49:53.905652Z"
    }
   },
   "cell_type": "code",
   "source": [
    "from src.fantasy_football_v2.data.generate_dataframes.generate_weekly_points_df import generate_weekly_points_df\n",
    "from src.fantasy_football_v2.data.generate_dataframes.generate_ref_df import generate_ref_df\n",
    "from src.fantasy_football_v2.data.generate_dataframes.generate_game_df import generate_game_df"
   ],
   "id": "14d36dfa391621b8",
   "outputs": [],
   "execution_count": 9
  },
  {
   "metadata": {
    "ExecuteTime": {
     "end_time": "2025-10-03T20:23:09.285285Z",
     "start_time": "2025-10-03T20:23:07.757083Z"
    }
   },
   "cell_type": "code",
   "source": [
    "# Ref dataframe with current refs\n",
    "ref_df = generate_ref_df(\n",
    "    years=[2025]\n",
    ").reindex()\n",
    "ref_df.head()"
   ],
   "id": "775b045b5d9d09a9",
   "outputs": [
    {
     "data": {
      "text/plain": [
       "             id            name  season position\n",
       "48910  SmitSh0r     Shawn Smith    2025        R\n",
       "48911  BlakTr0r       Tra Blake    2025        U\n",
       "48912  BilbJa0r       Jay Bilbo    2025       DJ\n",
       "48913  SeemJe0r     Jeff Seeman    2025       LJ\n",
       "48914  PagaDi0r  Dino Paganelli    2025       BJ"
      ],
      "text/html": [
       "<div>\n",
       "<style scoped>\n",
       "    .dataframe tbody tr th:only-of-type {\n",
       "        vertical-align: middle;\n",
       "    }\n",
       "\n",
       "    .dataframe tbody tr th {\n",
       "        vertical-align: top;\n",
       "    }\n",
       "\n",
       "    .dataframe thead th {\n",
       "        text-align: right;\n",
       "    }\n",
       "</style>\n",
       "<table border=\"1\" class=\"dataframe\">\n",
       "  <thead>\n",
       "    <tr style=\"text-align: right;\">\n",
       "      <th></th>\n",
       "      <th>id</th>\n",
       "      <th>name</th>\n",
       "      <th>season</th>\n",
       "      <th>position</th>\n",
       "    </tr>\n",
       "  </thead>\n",
       "  <tbody>\n",
       "    <tr>\n",
       "      <th>48910</th>\n",
       "      <td>SmitSh0r</td>\n",
       "      <td>Shawn Smith</td>\n",
       "      <td>2025</td>\n",
       "      <td>R</td>\n",
       "    </tr>\n",
       "    <tr>\n",
       "      <th>48911</th>\n",
       "      <td>BlakTr0r</td>\n",
       "      <td>Tra Blake</td>\n",
       "      <td>2025</td>\n",
       "      <td>U</td>\n",
       "    </tr>\n",
       "    <tr>\n",
       "      <th>48912</th>\n",
       "      <td>BilbJa0r</td>\n",
       "      <td>Jay Bilbo</td>\n",
       "      <td>2025</td>\n",
       "      <td>DJ</td>\n",
       "    </tr>\n",
       "    <tr>\n",
       "      <th>48913</th>\n",
       "      <td>SeemJe0r</td>\n",
       "      <td>Jeff Seeman</td>\n",
       "      <td>2025</td>\n",
       "      <td>LJ</td>\n",
       "    </tr>\n",
       "    <tr>\n",
       "      <th>48914</th>\n",
       "      <td>PagaDi0r</td>\n",
       "      <td>Dino Paganelli</td>\n",
       "      <td>2025</td>\n",
       "      <td>BJ</td>\n",
       "    </tr>\n",
       "  </tbody>\n",
       "</table>\n",
       "</div>"
      ]
     },
     "execution_count": 5,
     "metadata": {},
     "output_type": "execute_result"
    }
   ],
   "execution_count": 5
  },
  {
   "metadata": {
    "ExecuteTime": {
     "end_time": "2025-10-03T20:23:23.206384Z",
     "start_time": "2025-10-03T20:23:23.201830Z"
    }
   },
   "cell_type": "code",
   "source": "ref_df.shape",
   "id": "62fcb07e1529c793",
   "outputs": [
    {
     "data": {
      "text/plain": [
       "(120, 4)"
      ]
     },
     "execution_count": 6,
     "metadata": {},
     "output_type": "execute_result"
    }
   ],
   "execution_count": 6
  },
  {
   "metadata": {
    "ExecuteTime": {
     "end_time": "2025-10-03T20:47:44.353477Z",
     "start_time": "2025-10-03T20:47:39.220905Z"
    }
   },
   "cell_type": "code",
   "source": [
    "# Dataframe of current refs\n",
    "points_df = generate_weekly_points_df().reindex()\n",
    "points_df.shape"
   ],
   "id": "6a1d0242d854e84f",
   "outputs": [
    {
     "name": "stdout",
     "output_type": "stream",
     "text": [
      "Downcasting floats.\n"
     ]
    },
    {
     "data": {
      "text/plain": [
       "(26786, 8)"
      ]
     },
     "execution_count": 7,
     "metadata": {},
     "output_type": "execute_result"
    }
   ],
   "execution_count": 7
  },
  {
   "metadata": {
    "ExecuteTime": {
     "end_time": "2025-10-03T20:49:17.059070Z",
     "start_time": "2025-10-03T20:49:17.050646Z"
    }
   },
   "cell_type": "code",
   "source": "points_df.head()",
   "id": "ead500e84f7e9b9",
   "outputs": [
    {
     "data": {
      "text/plain": [
       "   season  week   player_id player_display_name recent_team position  \\\n",
       "0    2024     1  00-0023459       Aaron Rodgers         NYJ       QB   \n",
       "1    2024     2  00-0023459       Aaron Rodgers         NYJ       QB   \n",
       "2    2024     3  00-0023459       Aaron Rodgers         NYJ       QB   \n",
       "3    2024     4  00-0023459       Aaron Rodgers         NYJ       QB   \n",
       "4    2024     5  00-0023459       Aaron Rodgers         NYJ       QB   \n",
       "\n",
       "   fantasy_points_ppr          game_id  \n",
       "0            8.580000   2024_01_NYJ_SF  \n",
       "1           15.140000  2024_02_NYJ_TEN  \n",
       "2           21.040001   2024_03_NE_NYJ  \n",
       "3           11.600000  2024_04_DEN_NYJ  \n",
       "4           11.760000  2024_05_NYJ_MIN  "
      ],
      "text/html": [
       "<div>\n",
       "<style scoped>\n",
       "    .dataframe tbody tr th:only-of-type {\n",
       "        vertical-align: middle;\n",
       "    }\n",
       "\n",
       "    .dataframe tbody tr th {\n",
       "        vertical-align: top;\n",
       "    }\n",
       "\n",
       "    .dataframe thead th {\n",
       "        text-align: right;\n",
       "    }\n",
       "</style>\n",
       "<table border=\"1\" class=\"dataframe\">\n",
       "  <thead>\n",
       "    <tr style=\"text-align: right;\">\n",
       "      <th></th>\n",
       "      <th>season</th>\n",
       "      <th>week</th>\n",
       "      <th>player_id</th>\n",
       "      <th>player_display_name</th>\n",
       "      <th>recent_team</th>\n",
       "      <th>position</th>\n",
       "      <th>fantasy_points_ppr</th>\n",
       "      <th>game_id</th>\n",
       "    </tr>\n",
       "  </thead>\n",
       "  <tbody>\n",
       "    <tr>\n",
       "      <th>0</th>\n",
       "      <td>2024</td>\n",
       "      <td>1</td>\n",
       "      <td>00-0023459</td>\n",
       "      <td>Aaron Rodgers</td>\n",
       "      <td>NYJ</td>\n",
       "      <td>QB</td>\n",
       "      <td>8.580000</td>\n",
       "      <td>2024_01_NYJ_SF</td>\n",
       "    </tr>\n",
       "    <tr>\n",
       "      <th>1</th>\n",
       "      <td>2024</td>\n",
       "      <td>2</td>\n",
       "      <td>00-0023459</td>\n",
       "      <td>Aaron Rodgers</td>\n",
       "      <td>NYJ</td>\n",
       "      <td>QB</td>\n",
       "      <td>15.140000</td>\n",
       "      <td>2024_02_NYJ_TEN</td>\n",
       "    </tr>\n",
       "    <tr>\n",
       "      <th>2</th>\n",
       "      <td>2024</td>\n",
       "      <td>3</td>\n",
       "      <td>00-0023459</td>\n",
       "      <td>Aaron Rodgers</td>\n",
       "      <td>NYJ</td>\n",
       "      <td>QB</td>\n",
       "      <td>21.040001</td>\n",
       "      <td>2024_03_NE_NYJ</td>\n",
       "    </tr>\n",
       "    <tr>\n",
       "      <th>3</th>\n",
       "      <td>2024</td>\n",
       "      <td>4</td>\n",
       "      <td>00-0023459</td>\n",
       "      <td>Aaron Rodgers</td>\n",
       "      <td>NYJ</td>\n",
       "      <td>QB</td>\n",
       "      <td>11.600000</td>\n",
       "      <td>2024_04_DEN_NYJ</td>\n",
       "    </tr>\n",
       "    <tr>\n",
       "      <th>4</th>\n",
       "      <td>2024</td>\n",
       "      <td>5</td>\n",
       "      <td>00-0023459</td>\n",
       "      <td>Aaron Rodgers</td>\n",
       "      <td>NYJ</td>\n",
       "      <td>QB</td>\n",
       "      <td>11.760000</td>\n",
       "      <td>2024_05_NYJ_MIN</td>\n",
       "    </tr>\n",
       "  </tbody>\n",
       "</table>\n",
       "</div>"
      ]
     },
     "execution_count": 8,
     "metadata": {},
     "output_type": "execute_result"
    }
   ],
   "execution_count": 8
  },
  {
   "metadata": {},
   "cell_type": "code",
   "outputs": [],
   "execution_count": null,
   "source": [
    "# Merge points_df with ref_df to only include current refs\n",
    "points_df = ref_df.merage(\n",
    "    points_df[['referee']]\n",
    ")"
   ],
   "id": "7b231da343198d9f"
  }
 ],
 "metadata": {
  "kernelspec": {
   "display_name": "Python 3",
   "language": "python",
   "name": "python3"
  },
  "language_info": {
   "codemirror_mode": {
    "name": "ipython",
    "version": 2
   },
   "file_extension": ".py",
   "mimetype": "text/x-python",
   "name": "python",
   "nbconvert_exporter": "python",
   "pygments_lexer": "ipython2",
   "version": "2.7.6"
  }
 },
 "nbformat": 4,
 "nbformat_minor": 5
}
