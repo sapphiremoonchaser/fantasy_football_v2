{
 "cells": [
  {
   "metadata": {},
   "cell_type": "markdown",
   "source": "# Point by Ref Analysis",
   "id": "ff86c21a02e4343f"
  },
  {
   "metadata": {
    "collapsed": true,
    "ExecuteTime": {
     "end_time": "2025-10-03T21:01:26.891472Z",
     "start_time": "2025-10-03T21:01:26.888671Z"
    }
   },
   "cell_type": "code",
   "source": [
    "from src.fantasy_football_v2.data.generate_dataframes.generate_weekly_points_df import generate_weekly_points_df\n",
    "from src.fantasy_football_v2.data.generate_dataframes.generate_ref_df import generate_ref_df\n",
    "from src.fantasy_football_v2.data.generate_dataframes.generate_game_df import generate_game_df"
   ],
   "id": "14d36dfa391621b8",
   "outputs": [],
   "execution_count": 17
  },
  {
   "metadata": {
    "ExecuteTime": {
     "end_time": "2025-10-03T21:01:29.683734Z",
     "start_time": "2025-10-03T21:01:29.144574Z"
    }
   },
   "cell_type": "code",
   "source": [
    "# Ref dataframe with current refs\n",
    "ref_df = generate_ref_df(\n",
    "    years=[2025]\n",
    ").reindex()\n",
    "ref_df.head()"
   ],
   "id": "775b045b5d9d09a9",
   "outputs": [
    {
     "data": {
      "text/plain": [
       "             id            name  season position\n",
       "48910  SmitSh0r     Shawn Smith    2025        R\n",
       "48911  BlakTr0r       Tra Blake    2025        U\n",
       "48912  BilbJa0r       Jay Bilbo    2025       DJ\n",
       "48913  SeemJe0r     Jeff Seeman    2025       LJ\n",
       "48914  PagaDi0r  Dino Paganelli    2025       BJ"
      ],
      "text/html": [
       "<div>\n",
       "<style scoped>\n",
       "    .dataframe tbody tr th:only-of-type {\n",
       "        vertical-align: middle;\n",
       "    }\n",
       "\n",
       "    .dataframe tbody tr th {\n",
       "        vertical-align: top;\n",
       "    }\n",
       "\n",
       "    .dataframe thead th {\n",
       "        text-align: right;\n",
       "    }\n",
       "</style>\n",
       "<table border=\"1\" class=\"dataframe\">\n",
       "  <thead>\n",
       "    <tr style=\"text-align: right;\">\n",
       "      <th></th>\n",
       "      <th>id</th>\n",
       "      <th>name</th>\n",
       "      <th>season</th>\n",
       "      <th>position</th>\n",
       "    </tr>\n",
       "  </thead>\n",
       "  <tbody>\n",
       "    <tr>\n",
       "      <th>48910</th>\n",
       "      <td>SmitSh0r</td>\n",
       "      <td>Shawn Smith</td>\n",
       "      <td>2025</td>\n",
       "      <td>R</td>\n",
       "    </tr>\n",
       "    <tr>\n",
       "      <th>48911</th>\n",
       "      <td>BlakTr0r</td>\n",
       "      <td>Tra Blake</td>\n",
       "      <td>2025</td>\n",
       "      <td>U</td>\n",
       "    </tr>\n",
       "    <tr>\n",
       "      <th>48912</th>\n",
       "      <td>BilbJa0r</td>\n",
       "      <td>Jay Bilbo</td>\n",
       "      <td>2025</td>\n",
       "      <td>DJ</td>\n",
       "    </tr>\n",
       "    <tr>\n",
       "      <th>48913</th>\n",
       "      <td>SeemJe0r</td>\n",
       "      <td>Jeff Seeman</td>\n",
       "      <td>2025</td>\n",
       "      <td>LJ</td>\n",
       "    </tr>\n",
       "    <tr>\n",
       "      <th>48914</th>\n",
       "      <td>PagaDi0r</td>\n",
       "      <td>Dino Paganelli</td>\n",
       "      <td>2025</td>\n",
       "      <td>BJ</td>\n",
       "    </tr>\n",
       "  </tbody>\n",
       "</table>\n",
       "</div>"
      ]
     },
     "execution_count": 18,
     "metadata": {},
     "output_type": "execute_result"
    }
   ],
   "execution_count": 18
  },
  {
   "metadata": {
    "ExecuteTime": {
     "end_time": "2025-10-03T21:01:32.780558Z",
     "start_time": "2025-10-03T21:01:32.769387Z"
    }
   },
   "cell_type": "code",
   "source": "ref_df.shape",
   "id": "62fcb07e1529c793",
   "outputs": [
    {
     "data": {
      "text/plain": [
       "(120, 4)"
      ]
     },
     "execution_count": 19,
     "metadata": {},
     "output_type": "execute_result"
    }
   ],
   "execution_count": 19
  },
  {
   "metadata": {
    "ExecuteTime": {
     "end_time": "2025-10-03T21:01:49.521543Z",
     "start_time": "2025-10-03T21:01:41.662811Z"
    }
   },
   "cell_type": "code",
   "source": [
    "# Dataframe of games (including ref)\n",
    "game_df = generate_game_df(\n",
    "    years=[2021, 2022, 2023, 2024, 2025]\n",
    ").reindex()\n",
    "game_df.shape"
   ],
   "id": "6a1d0242d854e84f",
   "outputs": [
    {
     "data": {
      "text/plain": [
       "(1359, 4)"
      ]
     },
     "execution_count": 21,
     "metadata": {},
     "output_type": "execute_result"
    }
   ],
   "execution_count": 21
  },
  {
   "metadata": {
    "ExecuteTime": {
     "end_time": "2025-10-03T21:01:51.305800Z",
     "start_time": "2025-10-03T21:01:51.298247Z"
    }
   },
   "cell_type": "code",
   "source": "game_df.head()",
   "id": "67d9ae65357747fb",
   "outputs": [
    {
     "data": {
      "text/plain": [
       "              game_id  season  week       teams\n",
       "5852   2021_01_DAL_TB    2021     1   [DAL, TB]\n",
       "5853  2021_01_PHI_ATL    2021     1  [PHI, ATL]\n",
       "5854  2021_01_PIT_BUF    2021     1  [PIT, BUF]\n",
       "5855  2021_01_NYJ_CAR    2021     1  [NYJ, CAR]\n",
       "5856  2021_01_MIN_CIN    2021     1  [MIN, CIN]"
      ],
      "text/html": [
       "<div>\n",
       "<style scoped>\n",
       "    .dataframe tbody tr th:only-of-type {\n",
       "        vertical-align: middle;\n",
       "    }\n",
       "\n",
       "    .dataframe tbody tr th {\n",
       "        vertical-align: top;\n",
       "    }\n",
       "\n",
       "    .dataframe thead th {\n",
       "        text-align: right;\n",
       "    }\n",
       "</style>\n",
       "<table border=\"1\" class=\"dataframe\">\n",
       "  <thead>\n",
       "    <tr style=\"text-align: right;\">\n",
       "      <th></th>\n",
       "      <th>game_id</th>\n",
       "      <th>season</th>\n",
       "      <th>week</th>\n",
       "      <th>teams</th>\n",
       "    </tr>\n",
       "  </thead>\n",
       "  <tbody>\n",
       "    <tr>\n",
       "      <th>5852</th>\n",
       "      <td>2021_01_DAL_TB</td>\n",
       "      <td>2021</td>\n",
       "      <td>1</td>\n",
       "      <td>[DAL, TB]</td>\n",
       "    </tr>\n",
       "    <tr>\n",
       "      <th>5853</th>\n",
       "      <td>2021_01_PHI_ATL</td>\n",
       "      <td>2021</td>\n",
       "      <td>1</td>\n",
       "      <td>[PHI, ATL]</td>\n",
       "    </tr>\n",
       "    <tr>\n",
       "      <th>5854</th>\n",
       "      <td>2021_01_PIT_BUF</td>\n",
       "      <td>2021</td>\n",
       "      <td>1</td>\n",
       "      <td>[PIT, BUF]</td>\n",
       "    </tr>\n",
       "    <tr>\n",
       "      <th>5855</th>\n",
       "      <td>2021_01_NYJ_CAR</td>\n",
       "      <td>2021</td>\n",
       "      <td>1</td>\n",
       "      <td>[NYJ, CAR]</td>\n",
       "    </tr>\n",
       "    <tr>\n",
       "      <th>5856</th>\n",
       "      <td>2021_01_MIN_CIN</td>\n",
       "      <td>2021</td>\n",
       "      <td>1</td>\n",
       "      <td>[MIN, CIN]</td>\n",
       "    </tr>\n",
       "  </tbody>\n",
       "</table>\n",
       "</div>"
      ]
     },
     "execution_count": 22,
     "metadata": {},
     "output_type": "execute_result"
    }
   ],
   "execution_count": 22
  },
  {
   "metadata": {
    "ExecuteTime": {
     "end_time": "2025-10-03T21:00:06.477041Z",
     "start_time": "2025-10-03T21:00:06.445398Z"
    }
   },
   "cell_type": "code",
   "source": [
    "# Join game_df and ref_df so that only games with current refs are included\n",
    "game_df = game_df.merge(\n",
    "    ref_df,\n",
    "    left_on=['name'],\n",
    "    right_on=['referee'],\n",
    "    how='inner'\n",
    ")\n",
    "game_df.shape"
   ],
   "id": "65752f3719aeb1a9",
   "outputs": [
    {
     "ename": "KeyError",
     "evalue": "'referee'",
     "output_type": "error",
     "traceback": [
      "\u001B[31m---------------------------------------------------------------------------\u001B[39m",
      "\u001B[31mKeyError\u001B[39m                                  Traceback (most recent call last)",
      "\u001B[32m~\\AppData\\Local\\Temp\\ipykernel_18856\\2168533299.py\u001B[39m in \u001B[36m?\u001B[39m\u001B[34m()\u001B[39m\n\u001B[32m      1\u001B[39m \u001B[38;5;66;03m# Join game_df and ref_df so that only games with current refs are included\u001B[39;00m\n\u001B[32m----> \u001B[39m\u001B[32m2\u001B[39m game_df = game_df.merge(\n\u001B[32m      3\u001B[39m     ref_df,\n\u001B[32m      4\u001B[39m     left_on=[\u001B[33m'name'\u001B[39m],\n\u001B[32m      5\u001B[39m     right_on=[\u001B[33m'referee'\u001B[39m],\n",
      "\u001B[32m~\\dev\\fantasy-football\\fantasy_football_v2\\.venv\\Lib\\site-packages\\pandas\\core\\frame.py\u001B[39m in \u001B[36m?\u001B[39m\u001B[34m(self, right, how, on, left_on, right_on, left_index, right_index, sort, suffixes, copy, indicator, validate)\u001B[39m\n\u001B[32m  10089\u001B[39m         validate: str | \u001B[38;5;28;01mNone\u001B[39;00m = \u001B[38;5;28;01mNone\u001B[39;00m,\n\u001B[32m  10090\u001B[39m     ) -> DataFrame:\n\u001B[32m  10091\u001B[39m         \u001B[38;5;28;01mfrom\u001B[39;00m pandas.core.reshape.merge \u001B[38;5;28;01mimport\u001B[39;00m merge\n\u001B[32m  10092\u001B[39m \n\u001B[32m> \u001B[39m\u001B[32m10093\u001B[39m         return merge(\n\u001B[32m  10094\u001B[39m             self,\n\u001B[32m  10095\u001B[39m             right,\n\u001B[32m  10096\u001B[39m             how=how,\n",
      "\u001B[32m~\\dev\\fantasy-football\\fantasy_football_v2\\.venv\\Lib\\site-packages\\pandas\\core\\reshape\\merge.py\u001B[39m in \u001B[36m?\u001B[39m\u001B[34m(left, right, how, on, left_on, right_on, left_index, right_index, sort, suffixes, copy, indicator, validate)\u001B[39m\n\u001B[32m    106\u001B[39m     copy: bool = \u001B[38;5;28;01mTrue\u001B[39;00m,\n\u001B[32m    107\u001B[39m     indicator: bool = \u001B[38;5;28;01mFalse\u001B[39;00m,\n\u001B[32m    108\u001B[39m     validate: str | \u001B[38;5;28;01mNone\u001B[39;00m = \u001B[38;5;28;01mNone\u001B[39;00m,\n\u001B[32m    109\u001B[39m ) -> DataFrame:\n\u001B[32m--> \u001B[39m\u001B[32m110\u001B[39m     op = _MergeOperation(\n\u001B[32m    111\u001B[39m         left,\n\u001B[32m    112\u001B[39m         right,\n\u001B[32m    113\u001B[39m         how=how,\n",
      "\u001B[32m~\\dev\\fantasy-football\\fantasy_football_v2\\.venv\\Lib\\site-packages\\pandas\\core\\reshape\\merge.py\u001B[39m in \u001B[36m?\u001B[39m\u001B[34m(self, left, right, how, on, left_on, right_on, axis, left_index, right_index, sort, suffixes, indicator, validate)\u001B[39m\n\u001B[32m    699\u001B[39m         (\n\u001B[32m    700\u001B[39m             self.left_join_keys,\n\u001B[32m    701\u001B[39m             self.right_join_keys,\n\u001B[32m    702\u001B[39m             self.join_names,\n\u001B[32m--> \u001B[39m\u001B[32m703\u001B[39m         ) = self._get_merge_keys()\n\u001B[32m    704\u001B[39m \n\u001B[32m    705\u001B[39m         \u001B[38;5;66;03m# validate the merge keys dtypes. We may need to coerce\u001B[39;00m\n\u001B[32m    706\u001B[39m         \u001B[38;5;66;03m# to avoid incompatible dtypes\u001B[39;00m\n",
      "\u001B[32m~\\dev\\fantasy-football\\fantasy_football_v2\\.venv\\Lib\\site-packages\\pandas\\core\\reshape\\merge.py\u001B[39m in \u001B[36m?\u001B[39m\u001B[34m(self)\u001B[39m\n\u001B[32m   1158\u001B[39m                         \u001B[38;5;66;03m# Then we're either Hashable or a wrong-length arraylike,\u001B[39;00m\n\u001B[32m   1159\u001B[39m                         \u001B[38;5;66;03m#  the latter of which will raise\u001B[39;00m\n\u001B[32m   1160\u001B[39m                         rk = cast(Hashable, rk)\n\u001B[32m   1161\u001B[39m                         \u001B[38;5;28;01mif\u001B[39;00m rk \u001B[38;5;28;01mis\u001B[39;00m \u001B[38;5;28;01mnot\u001B[39;00m \u001B[38;5;28;01mNone\u001B[39;00m:\n\u001B[32m-> \u001B[39m\u001B[32m1162\u001B[39m                             right_keys.append(right._get_label_or_level_values(rk))\n\u001B[32m   1163\u001B[39m                         \u001B[38;5;28;01melse\u001B[39;00m:\n\u001B[32m   1164\u001B[39m                             \u001B[38;5;66;03m# work-around for merge_asof(right_index=True)\u001B[39;00m\n\u001B[32m   1165\u001B[39m                             right_keys.append(right.index)\n",
      "\u001B[32m~\\dev\\fantasy-football\\fantasy_football_v2\\.venv\\Lib\\site-packages\\pandas\\core\\generic.py\u001B[39m in \u001B[36m?\u001B[39m\u001B[34m(self, key, axis)\u001B[39m\n\u001B[32m   1846\u001B[39m                 .get_level_values(key)  \u001B[38;5;66;03m# type: ignore[assignment]\u001B[39;00m\n\u001B[32m   1847\u001B[39m                 ._values\n\u001B[32m   1848\u001B[39m             )\n\u001B[32m   1849\u001B[39m         \u001B[38;5;28;01melse\u001B[39;00m:\n\u001B[32m-> \u001B[39m\u001B[32m1850\u001B[39m             \u001B[38;5;28;01mraise\u001B[39;00m KeyError(key)\n\u001B[32m   1851\u001B[39m \n\u001B[32m   1852\u001B[39m         \u001B[38;5;66;03m# Check for duplicates\u001B[39;00m\n\u001B[32m   1853\u001B[39m         \u001B[38;5;28;01mif\u001B[39;00m values.ndim > \u001B[32m1\u001B[39m:\n",
      "\u001B[31mKeyError\u001B[39m: 'referee'"
     ]
    }
   ],
   "execution_count": 14
  },
  {
   "metadata": {},
   "cell_type": "code",
   "outputs": [],
   "execution_count": null,
   "source": "",
   "id": "a558e8c5fcf3c13e"
  }
 ],
 "metadata": {
  "kernelspec": {
   "display_name": "Python 3",
   "language": "python",
   "name": "python3"
  },
  "language_info": {
   "codemirror_mode": {
    "name": "ipython",
    "version": 2
   },
   "file_extension": ".py",
   "mimetype": "text/x-python",
   "name": "python",
   "nbconvert_exporter": "python",
   "pygments_lexer": "ipython2",
   "version": "2.7.6"
  }
 },
 "nbformat": 4,
 "nbformat_minor": 5
}
